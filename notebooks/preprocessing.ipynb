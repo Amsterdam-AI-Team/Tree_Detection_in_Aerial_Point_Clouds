{
 "cells": [
  {
   "cell_type": "code",
   "execution_count": null,
   "id": "2338e310-5115-4c88-90a8-63adc9019d42",
   "metadata": {},
   "outputs": [],
   "source": [
    "import set_path\n",
    "\n",
    "import numpy as np\n",
    "import laspy\n",
    "import geopandas as gpd\n",
    "from shapely.geometry import Point, Polygon, box\n",
    "import pandas as pd\n",
    "\n",
    "from upcp.utils import ahn_utils, clip_utils\n",
    "from upcp.utils.interpolation import FastGridInterpolator\n",
    "\n",
    "from gvl.helper_functions import color_clusters\n",
    "from gvl.tree_detector import DetectorTree\n",
    "from gvl.ahn_utils import GeoTIFFReader2"
   ]
  },
  {
   "cell_type": "code",
   "execution_count": null,
   "id": "824f19ce-ca70-4952-9db2-5f8bdf8130fa",
   "metadata": {},
   "outputs": [],
   "source": [
    "import warnings  # temporary, to supress deprecationwarnings from shapely\n",
    "warnings.filterwarnings('ignore')"
   ]
  },
  {
   "cell_type": "code",
   "execution_count": null,
   "id": "5b54fcb7-5d6f-41e3-bc42-7d9b6d99f700",
   "metadata": {},
   "outputs": [],
   "source": [
    "RD_CRS = 'epsg:28992'\n",
    "LL_CRS = 'WGS84'\n",
    "\n",
    "# AHN classification\n",
    "AHN_OTHER = 1\n",
    "AHN_GROUND = 2\n",
    "AHN_BUILDING = 6\n",
    "AHN_WATER = 9\n",
    "AHN_ARTIFACT = 26"
   ]
  },
  {
   "cell_type": "markdown",
   "id": "ae99a02a",
   "metadata": {},
   "source": [
    "### TODO make geotiles scraper\n",
    "We use 5m resolution. The ground filter improvements when using is 0.5m is negligible and running time increases."
   ]
  },
  {
   "cell_type": "code",
   "execution_count": null,
   "id": "ccb79c90-d521-46a0-bc45-49f786a47799",
   "metadata": {},
   "outputs": [],
   "source": [
    "# Use AHN subtiles\n",
    "tilecode = '25GN1_08'\n",
    "\n",
    "las_file = f'../datasets/ahn_laz/{tilecode}.LAZ'\n",
    "tree_ref_file = '../datasets/validation/joined_trees_bgt_gissib_1_5_amsterdam.shp'\n",
    "ahn_geotiff_folder = '../datasets/ahn_dtm/'\n",
    "\n",
    "ahn_reader = GeoTIFFReader2(ahn_geotiff_folder, fill_gaps=False,\n",
    "                            smoothen=True, smooth_thickness=2)\n",
    "\n",
    "tree_gdf = gpd.read_file(tree_ref_file, crs=RD_CRS)\n",
    "tree_gdf = tree_gdf.to_crs(RD_CRS) # TODO needed?"
   ]
  },
  {
   "cell_type": "code",
   "execution_count": null,
   "id": "57291040-c2a0-46c7-8931-94b348d61376",
   "metadata": {},
   "outputs": [],
   "source": [
    "las = laspy.read(las_file)\n",
    "points_3d = np.vstack((las.x, las.y, las.z)).T\n",
    "points_rgb = np.vstack((las.red, las.green, las.blue)).T"
   ]
  },
  {
   "cell_type": "code",
   "execution_count": null,
   "id": "55957de9",
   "metadata": {},
   "outputs": [],
   "source": [
    "pc_header = las.header\n",
    "offset = 20 # Necesarry to avoid incorrect DTM + LAZ overlap\n",
    "bbox_original = pc_header.min[0], pc_header.min[1], pc_header.max[0], pc_header.max[1]\n",
    "bbox = pc_header.min[0]+offset, pc_header.min[1]+offset, pc_header.max[0]-offset, pc_header.max[1]-offset"
   ]
  },
  {
   "cell_type": "markdown",
   "id": "fa516264",
   "metadata": {},
   "source": [
    "### Filter 1: scalar fields and clip\n",
    "- classification -> 'overig label' points\n",
    "\n",
    "We dont want to filter in the number_of_returns scalar field. It will remove too much valuable tree points. "
   ]
  },
  {
   "cell_type": "code",
   "execution_count": null,
   "id": "5007a5c6-fdf0-4339-adee-b3a59cdf32b5",
   "metadata": {},
   "outputs": [],
   "source": [
    "area_mask = clip_utils.rectangle_clip(points_3d, bbox)\n",
    "class_mask = las.classification == AHN_OTHER\n",
    "\n",
    "mask = class_mask & area_mask"
   ]
  },
  {
   "cell_type": "code",
   "execution_count": null,
   "id": "43a7bc4f-545f-460b-a601-32bd8cd6f1db",
   "metadata": {},
   "outputs": [],
   "source": [
    "gnd_tile = ahn_reader.filter_area(bbox)\n",
    "\n",
    "fast_z = FastGridInterpolator(\n",
    "            gnd_tile['x'], gnd_tile['y'], gnd_tile['ground_surface'])\n",
    "gnd_z = fast_z(points_3d[mask])"
   ]
  },
  {
   "cell_type": "code",
   "execution_count": null,
   "id": "ce685044-9219-43fa-b6dd-8d1613305943",
   "metadata": {},
   "outputs": [],
   "source": [
    "np.count_nonzero(gnd_z == np.nan)"
   ]
  },
  {
   "cell_type": "markdown",
   "id": "ea7b1d74",
   "metadata": {},
   "source": [
    "### Filter 2: points close to ground\n",
    "TODO move this before the KDTree code"
   ]
  },
  {
   "cell_type": "code",
   "execution_count": null,
   "id": "c54a084c",
   "metadata": {},
   "outputs": [],
   "source": [
    "above_ground_in_meters = 2.5\n",
    "height_mask = points_3d[mask, 2] - gnd_z >= above_ground_in_meters\n",
    "ground_z = gnd_z[height_mask] # TODO # Ugggly"
   ]
  },
  {
   "cell_type": "code",
   "execution_count": null,
   "id": "1eb5a8c5",
   "metadata": {},
   "outputs": [],
   "source": [
    "points_3d = points_3d[mask][height_mask]\n",
    "points_rgb = points_rgb[mask][height_mask]\n",
    "points_i = las.intensity[mask][height_mask]"
   ]
  },
  {
   "cell_type": "markdown",
   "id": "f92a6f26",
   "metadata": {},
   "source": [
    "# LCC"
   ]
  },
  {
   "cell_type": "code",
   "execution_count": null,
   "id": "0fcd78dc",
   "metadata": {},
   "outputs": [],
   "source": [
    "from upcp.utils.clip_utils import poly_box_clip\n",
    "from upcp.utils.math_utils import minimum_bounding_rectangle\n",
    "\n",
    "def _label_tree_like_components(points, ground_z, point_components,\n",
    "                                tree_points, min_height):\n",
    "    \"\"\" Based on certain properties of a tree we label clusters.  \"\"\"\n",
    "    \n",
    "    tree_mask = np.zeros(len(points), dtype=bool)\n",
    "    tree_count = 0\n",
    "    \n",
    "    if len(tree_points) == 0:\n",
    "        print('No reference tree points, skipping.')\n",
    "        return tree_mask\n",
    "\n",
    "    cc_labels = np.unique(point_components)\n",
    "\n",
    "    cc_labels = set(cc_labels).difference((-1,))\n",
    "\n",
    "    for cc in cc_labels:\n",
    "        # select points that belong to the cluster\n",
    "        cc_mask = (point_components == cc)\n",
    "\n",
    "        target_z = ground_z[cc_mask]\n",
    "        valid_values = target_z[np.isfinite(target_z)]\n",
    "\n",
    "        if valid_values.size != 0:\n",
    "            cc_z = np.mean(valid_values)\n",
    "            min_z = cc_z + min_height\n",
    "            cluster_height = np.amax(points[cc_mask][:, 2])\n",
    "            if min_z <= cluster_height:\n",
    "                mbrect, conv_hull, mbr_width, mbr_length, _ =\\\n",
    "                    minimum_bounding_rectangle(points[cc_mask][:, :2])\n",
    "                p1 = Polygon(conv_hull)\n",
    "                for p2 in tree_points:\n",
    "                    do_overlap = p1.contains(p2)\n",
    "                    if do_overlap:\n",
    "                        tree_mask[cc_mask] = True\n",
    "                        tree_count += 1\n",
    "                        break\n",
    "\n",
    "    print(f'{tree_count} tree labelled.')\n",
    "\n",
    "    return tree_mask"
   ]
  },
  {
   "cell_type": "code",
   "execution_count": null,
   "id": "71954648-588d-408e-ba8e-22fe4c880328",
   "metadata": {},
   "outputs": [],
   "source": [
    "trees_in_bbox = tree_gdf[tree_gdf.within(box(*bbox, ccw=True))]\n",
    "tree_points = list(trees_in_bbox['geometry'].values)"
   ]
  },
  {
   "cell_type": "code",
   "execution_count": null,
   "id": "b433eaab",
   "metadata": {},
   "outputs": [],
   "source": [
    "# TODO: progress indication\n",
    "\n",
    "from upcp.region_growing.label_connected_comp import LabelConnectedComp\n",
    "\n",
    "grid_size = 0.6\n",
    "min_component_size = 50\n",
    "min_height = 3.5\n",
    "\n",
    "lcc = LabelConnectedComp(grid_size=grid_size,\n",
    "                         min_component_size=min_component_size)\n",
    "point_components = lcc.get_components(points_3d)\n",
    "\n",
    "# Label tree like clusters\n",
    "tree_mask = _label_tree_like_components(points_3d, ground_z,\n",
    "                                       point_components,\n",
    "                                       tree_points, min_height)"
   ]
  },
  {
   "cell_type": "code",
   "execution_count": null,
   "id": "081b716d",
   "metadata": {},
   "outputs": [],
   "source": [
    "import open3d as o3d\n",
    "\n",
    "object_pcd = o3d.geometry.PointCloud()\n",
    "points = np.stack((points_3d[:, 0], points_3d[:, 1], points_3d[:, 2]), axis=-1)\n",
    "object_pcd.points = o3d.utility.Vector3dVector(points)\n",
    "object_pcd.estimate_normals(search_param=o3d.geometry.KDTreeSearchParamHybrid(radius=0.5, max_nn=30))\n",
    "normals = np.matrix.round(np.array(object_pcd.normals), 2)\n",
    "normals_z = normals[:,2]\n",
    "normals_of_interest = np.squeeze(np.where(normals_z <= -0.95))\n",
    "mean_z = np.mean(points_3d[:, 2][normals_of_interest])\n",
    "normal_indxs_to_change = ((points_3d[:, 2][normals_of_interest] > (mean_z - 2)) & (points_3d[:, 2][normals_of_interest] < (mean_z + 2)))\n",
    "normals_z[normals_of_interest[normal_indxs_to_change]] = np.absolute(normals_z[normals_of_interest[normal_indxs_to_change]])\n",
    "normals[:,2] = normals_z"
   ]
  },
  {
   "cell_type": "markdown",
   "id": "124db9af",
   "metadata": {},
   "source": [
    "### Noise filter on non tree points and label non trees based on normal values"
   ]
  },
  {
   "cell_type": "code",
   "execution_count": null,
   "id": "bc068364",
   "metadata": {},
   "outputs": [],
   "source": [
    "grid_size = 0.9\n",
    "min_component_size = 50\n",
    "\n",
    "maskk = points_3d[~tree_mask, 0] # Only the possible noise points\n",
    "mask_ids = np.where(maskk)[0]\n",
    "\n",
    "lcc = LabelConnectedComp(grid_size=grid_size,\n",
    "                         min_component_size=min_component_size)\n",
    "point_components = lcc.get_components(points_3d[mask_ids])\n",
    "\n",
    "# Noise filter\n",
    "cc_mask = point_components == -1\n",
    "print(f'Found {np.count_nonzero(cc_mask)} noise points in '\n",
    "             + f'clusters <{min_component_size} points.')\n",
    "\n",
    "label_mask2 = np.zeros((len(points_3d),), dtype=bool)\n",
    "label_mask2[mask_ids] = cc_mask\n",
    "\n",
    "# Iterate over the clusters\n",
    "cc_labels = np.unique(point_components)\n",
    "\n",
    "cc_labels = set(cc_labels).difference((-1,))\n",
    "\n",
    "norm_mask = np.zeros(len(normals_z), dtype=bool)\n",
    "\n",
    "for cc in cc_labels:\n",
    "    # select points that belong to the cluster\n",
    "    cc_mask_jm = (point_components == cc)\n",
    "\n",
    "    if normals_z[mask_ids][cc_mask_jm].mean() > 0.5:\n",
    "        norm_mask[mask_ids[cc_mask_jm]] = True"
   ]
  },
  {
   "cell_type": "code",
   "execution_count": null,
   "id": "d987c259",
   "metadata": {},
   "outputs": [],
   "source": [
    "# TODO lelijk met label_mask2\n",
    "labels = np.zeros((len(points_3d),), dtype='uint16')\n",
    "labels[~tree_mask] = 0\n",
    "labels[tree_mask] = 1\n",
    "labels[label_mask2] = 99\n",
    "labels[norm_mask] = 55"
   ]
  },
  {
   "cell_type": "code",
   "execution_count": null,
   "id": "eaf3ea14",
   "metadata": {},
   "outputs": [],
   "source": [
    "header = laspy.LasHeader(point_format=3, version=\"1.2\")\n",
    "header.offsets = las.header.offsets\n",
    "header.scales = las.header.scales\n",
    "\n",
    "new_las = laspy.LasData(header)\n",
    "\n",
    "new_las.x = points_3d[:, 0]\n",
    "new_las.y = points_3d[:, 1]\n",
    "new_las.z = points_3d[:, 2]\n",
    "new_las.red = points_rgb[:, 0]\n",
    "new_las.green = points_rgb[:, 1]\n",
    "new_las.blue = points_rgb[:, 2]\n",
    "new_las.intensity = points_i\n",
    "\n",
    "new_las.add_extra_dim(laspy.ExtraBytesParams(name=\"label\", type=\"uint16\",\n",
    "                                         description=\"Label\"))\n",
    "new_las.label = labels\n",
    "\n",
    "new_las.add_extra_dim(laspy.ExtraBytesParams(name=\"hag\", type=\"uint16\",\n",
    "                                         description=\"Hag\"))\n",
    "new_las.hag = points_3d[:,2] - ground_z\n",
    "\n",
    "new_las.add_extra_dim(laspy.ExtraBytesParams(name=\"normal_x\", type=\"float\",\n",
    "                  description=\"normal_x\"))\n",
    "new_las.add_extra_dim(laspy.ExtraBytesParams(name=\"normal_y\", type=\"float\",\n",
    "                  description=\"normal_y\"))    \n",
    "new_las.add_extra_dim(laspy.ExtraBytesParams(name=\"normal_z\", type=\"float\",\n",
    "                  description=\"normal_z\"))\n",
    "new_las.normal_x = normals[:,0]\n",
    "new_las.normal_y = normals[:,1]\n",
    "new_las.normal_z = normals[:,2]\n",
    "\n",
    "new_las.write(f'../datasets/pointcloud/tree_{tilecode}.laz')"
   ]
  },
  {
   "cell_type": "markdown",
   "id": "be447952",
   "metadata": {},
   "source": [
    "### Make test file for RandLA-Net inference and make the seperate ground truth file"
   ]
  },
  {
   "cell_type": "code",
   "execution_count": null,
   "id": "5d8b8162",
   "metadata": {},
   "outputs": [],
   "source": [
    "def write_las(prefix, maskje):\n",
    "    outfile = laspy.create(file_version=\"1.2\", point_format=3)\n",
    "\n",
    "    outfile.x = points_3d[maskje, 0]\n",
    "    outfile.y = points_3d[maskje, 1]\n",
    "    outfile.z = points_3d[maskje, 2]\n",
    "    outfile.red = points_rgb[maskje, 0]\n",
    "    outfile.green = points_rgb[maskje, 1]\n",
    "    outfile.blue = points_rgb[maskje, 2]\n",
    "    outfile.intensity = points_i[maskje]\n",
    "    outfile.add_extra_dim(laspy.ExtraBytesParams(name=\"hag\", type=\"uint16\",\n",
    "                                         description=\"Hag\"))\n",
    "    outfile.hag = points_3d[maskje,2] - ground_z[maskje]\n",
    "    \n",
    "    outfile.add_extra_dim(laspy.ExtraBytesParams(name=\"normal_x\", type=\"float\",\n",
    "                      description=\"normal_x\"))\n",
    "    outfile.add_extra_dim(laspy.ExtraBytesParams(name=\"normal_y\", type=\"float\",\n",
    "                      description=\"normal_y\"))    \n",
    "    outfile.add_extra_dim(laspy.ExtraBytesParams(name=\"normal_z\", type=\"float\",\n",
    "                      description=\"normal_z\"))\n",
    "    outfile.normal_x = normals[maskje,0]\n",
    "    outfile.normal_y = normals[maskje,1]\n",
    "    outfile.normal_z = normals[maskje,2]\n",
    "\n",
    "    outfile.write(f'../datasets/pointcloud/{prefix}_{tilecode}.laz')\n",
    "    \n",
    "write_las('ground_truth', labels == 1)\n",
    "write_las('test', labels == 0)"
   ]
  },
  {
   "cell_type": "code",
   "execution_count": null,
   "id": "c091d643",
   "metadata": {},
   "outputs": [],
   "source": []
  }
 ],
 "metadata": {
  "kernelspec": {
   "display_name": "Python 3 (ipykernel)",
   "language": "python",
   "name": "python3"
  },
  "language_info": {
   "codemirror_mode": {
    "name": "ipython",
    "version": 3
   },
   "file_extension": ".py",
   "mimetype": "text/x-python",
   "name": "python",
   "nbconvert_exporter": "python",
   "pygments_lexer": "ipython3",
   "version": "3.9.13"
  }
 },
 "nbformat": 4,
 "nbformat_minor": 5
}
