{
 "cells": [
  {
   "cell_type": "code",
   "execution_count": null,
   "id": "2338e310-5115-4c88-90a8-63adc9019d42",
   "metadata": {},
   "outputs": [],
   "source": [
    "import set_path\n",
    "\n",
    "import numpy as np\n",
    "import laspy\n",
    "import geopandas as gpd\n",
    "import shapely.geometry as sg\n",
    "\n",
    "from upcp.utils import ahn_utils\n",
    "from upcp.utils.interpolation import FastGridInterpolator\n",
    "from upcp.region_growing.label_connected_comp import LabelConnectedComp\n",
    "\n",
    "import gvl.helper_functions as helpers\n",
    "from gvl.tree_detector import DetectorTree"
   ]
  },
  {
   "cell_type": "code",
   "execution_count": null,
   "id": "824f19ce-ca70-4952-9db2-5f8bdf8130fa",
   "metadata": {},
   "outputs": [],
   "source": [
    "import warnings  # temporary, to supress deprecationwarnings from shapely\n",
    "warnings.filterwarnings('ignore')"
   ]
  },
  {
   "cell_type": "code",
   "execution_count": null,
   "id": "f7b84404",
   "metadata": {},
   "outputs": [],
   "source": [
    "# AHN classification\n",
    "AHN_OTHER = 1\n",
    "AHN_GROUND = 2\n",
    "AHN_BUILDING = 6\n",
    "AHN_WATER = 9\n",
    "AHN_ARTIFACT = 26"
   ]
  },
  {
   "cell_type": "code",
   "execution_count": null,
   "id": "48100b42-e53a-40fc-a5b1-63e1d92b5b50",
   "metadata": {},
   "outputs": [],
   "source": [
    "# Our classification\n",
    "UNKNOWN = 0\n",
    "NOISE = 1\n",
    "TREE = 2\n",
    "OTHER = 3"
   ]
  },
  {
   "cell_type": "code",
   "execution_count": null,
   "id": "ccb79c90-d521-46a0-bc45-49f786a47799",
   "metadata": {},
   "outputs": [],
   "source": [
    "# Use AHN subtiles\n",
    "BASE_FOLDER = '/media/dbloembergen/PointCloud/AHN4'\n",
    "\n",
    "tilecode = '117_484'\n",
    "\n",
    "las_file = f'{BASE_FOLDER}/AMS_subtiles_1000/ahn4_{tilecode}.laz'\n",
    "tree_ref_file = '../datasets/validation/joined_trees_bgt_gissib_1_5_amsterdam.shp' # TODO get geovisia dataset\n",
    "ahn_dtm_folder = f'{BASE_FOLDER}/npz_subtiles_1000/'\n",
    "\n",
    "ahn_reader = ahn_utils.NPZReader(ahn_dtm_folder, caching=False)"
   ]
  },
  {
   "cell_type": "code",
   "execution_count": null,
   "id": "e0e8d10d-1663-4c2e-b788-f792f07f71f4",
   "metadata": {},
   "outputs": [],
   "source": [
    "las = laspy.read(las_file)\n",
    "points_xyz = np.vstack((las.x, las.y, las.z)).T\n",
    "bbox = las.header.min[0], las.header.min[1], las.header.max[0], las.header.max[1]"
   ]
  },
  {
   "cell_type": "code",
   "execution_count": null,
   "id": "22ac1df9",
   "metadata": {},
   "outputs": [],
   "source": [
    "tree_gdf = gpd.read_file(tree_ref_file, crs='epsg:28992')\n",
    "\n",
    "trees_in_bbox = tree_gdf[tree_gdf.within(sg.box(*bbox, ccw=True))]\n",
    "tree_points = list(trees_in_bbox['geometry'].values)"
   ]
  },
  {
   "cell_type": "markdown",
   "id": "fa516264",
   "metadata": {},
   "source": [
    "## Reduce the point cloud\n",
    "### Filter 1: scalar fields\n",
    "- classification -> 'overig label' points\n",
    "\n",
    "We dont want to filter in the number_of_returns scalar field. It will remove too much valuable tree points. "
   ]
  },
  {
   "cell_type": "code",
   "execution_count": null,
   "id": "5007a5c6-fdf0-4339-adee-b3a59cdf32b5",
   "metadata": {},
   "outputs": [],
   "source": [
    "mask = (las.classification == AHN_OTHER)"
   ]
  },
  {
   "cell_type": "markdown",
   "id": "ea7b1d74",
   "metadata": {},
   "source": [
    "### Filter 2: remove points close to ground"
   ]
  },
  {
   "cell_type": "code",
   "execution_count": null,
   "id": "4a64d333-5a54-4370-8652-d7c969e91753",
   "metadata": {},
   "outputs": [],
   "source": [
    "# Minimum height above ground in meters\n",
    "MIN_HAG = 2.5\n",
    "\n",
    "# Get ground height\n",
    "ground_z = ahn_reader.interpolate(helpers.get_tilecode_from_filename(las_file),\n",
    "                                  points_xyz[mask])\n",
    "\n",
    "height_mask = (points_xyz[mask, 2] - ground_z >= MIN_HAG) | np.isnan(ground_z)\n",
    "\n",
    "points_xyz = points_xyz[mask][height_mask]\n",
    "points_i = las.intensity[mask][height_mask]\n",
    "ground_z = ground_z[height_mask]"
   ]
  },
  {
   "cell_type": "markdown",
   "id": "57bc04ed",
   "metadata": {},
   "source": [
    "## Label the point cloud\n",
    "### Label 1: label \"tree\" clusters based on ground truth tree points"
   ]
  },
  {
   "cell_type": "code",
   "execution_count": null,
   "id": "b433eaab",
   "metadata": {},
   "outputs": [],
   "source": [
    "# TODO: progress indication\n",
    "grid_size = 0.6          # TODO\n",
    "min_component_size = 50  # TODO\n",
    "min_height = 3.5         # TODO\n",
    "\n",
    "lcc = LabelConnectedComp(grid_size=grid_size,\n",
    "                         min_component_size=min_component_size)\n",
    "point_components = lcc.get_components(points_xyz)\n",
    "\n",
    "# Label tree like clusters\n",
    "tree_mask = helpers.label_tree_like_components(\n",
    "                                points_xyz, ground_z, point_components,\n",
    "                                tree_points, min_height)"
   ]
  },
  {
   "cell_type": "markdown",
   "id": "124db9af",
   "metadata": {},
   "source": [
    "### Label 2: label \"noise\" points"
   ]
  },
  {
   "cell_type": "code",
   "execution_count": null,
   "id": "bc068364",
   "metadata": {},
   "outputs": [],
   "source": [
    "grid_size = 0.9          # TODO\n",
    "min_component_size = 50  # TODO\n",
    "\n",
    "mask_ids = np.where(~tree_mask)[0] # Only the possible noise points\n",
    "\n",
    "lcc = LabelConnectedComp(grid_size=grid_size,\n",
    "                         min_component_size=min_component_size)\n",
    "point_components = lcc.get_components(points_xyz[mask_ids])"
   ]
  },
  {
   "cell_type": "code",
   "execution_count": null,
   "id": "f3763d3a",
   "metadata": {},
   "outputs": [],
   "source": [
    "# Noise filter\n",
    "noise_pts = point_components == -1\n",
    "print(f'Found {np.count_nonzero(noise_pts)} noise points in '\n",
    "             + f'clusters < {min_component_size} points.')\n",
    "\n",
    "noise_mask = np.zeros((len(points_xyz),), dtype=bool)\n",
    "noise_mask[mask_ids] = noise_pts"
   ]
  },
  {
   "cell_type": "markdown",
   "id": "459ee4dc",
   "metadata": {},
   "source": [
    "### Label 3: label \"non-tree\" clusters based on normal values and HAG"
   ]
  },
  {
   "cell_type": "code",
   "execution_count": null,
   "id": "6880c5ad",
   "metadata": {},
   "outputs": [],
   "source": [
    "cc_labels = np.unique(point_components)\n",
    "cc_labels = set(cc_labels).difference((-1,))\n",
    "\n",
    "normals = helpers.calculate_normals(points_xyz)\n",
    "normals_mask = np.zeros(len(normals[:,2]), dtype=bool)\n",
    "\n",
    "# Height above ground\n",
    "hag = points_xyz[:,2] - ground_z\n",
    "hag_mask = np.zeros(len(points_xyz[:,2]), dtype=bool)\n",
    "\n",
    "# Iterate over the clusters\n",
    "for cc in cc_labels:\n",
    "    # select points that belong to the cluster\n",
    "    cc_mask_jm = (point_components == cc)\n",
    "\n",
    "    # If most of the points point up, it's not a tree.\n",
    "    if np.abs(normals[:,2][mask_ids[cc_mask_jm]]).mean() > 0.85:  # TODO\n",
    "        normals_mask[mask_ids[cc_mask_jm]] = True\n",
    "    \n",
    "    # TODO come up with something clever for x/y flatness\n",
    "    # Do a similar thing with the x normals # TODO Daan validate\n",
    "    # elif normals[:,0][mask_ids[cc_mask_jm]].mean() < 0.03 and normals[:,0][mask_ids[cc_mask_jm]].mean() > -0.03:\n",
    "    #     normals_mask[mask_ids[cc_mask_jm]] = True\n",
    "    \n",
    "    # TODO look at shape of cluster, e.g. minimum bounding rectangle + min_width check.\n",
    "        \n",
    "    # If the tree is smaller than 2.5 meters or higher than 38 (TODO) meters, it's not a tree.\n",
    "    elif hag[mask_ids[cc_mask_jm]].max() > 38 or hag[mask_ids[cc_mask_jm]].max() < 2.5:\n",
    "        hag_mask[mask_ids[cc_mask_jm]] = True    "
   ]
  },
  {
   "cell_type": "code",
   "execution_count": null,
   "id": "d987c259",
   "metadata": {},
   "outputs": [],
   "source": [
    "labels = np.ones((len(points_xyz),), dtype='uint16') * UNKNOWN\n",
    "labels[tree_mask] = TREE\n",
    "labels[noise_mask] = NOISE\n",
    "labels[normals_mask] = OTHER\n",
    "labels[hag_mask] = OTHER"
   ]
  },
  {
   "cell_type": "markdown",
   "id": "ee6fbd15",
   "metadata": {},
   "source": [
    "## Save the point cloud"
   ]
  },
  {
   "cell_type": "code",
   "execution_count": null,
   "id": "eaf3ea14",
   "metadata": {},
   "outputs": [],
   "source": [
    "header = laspy.LasHeader(point_format=3, version=\"1.2\")\n",
    "header.offsets = las.header.offsets\n",
    "header.scales = las.header.scales\n",
    "\n",
    "new_las = laspy.LasData(header)\n",
    "\n",
    "new_las.x = points_xyz[:, 0]\n",
    "new_las.y = points_xyz[:, 1]\n",
    "new_las.z = points_xyz[:, 2]\n",
    "new_las.intensity = points_i\n",
    "\n",
    "new_las.add_extra_dim(laspy.ExtraBytesParams(name=\"label\", type=\"uint16\",\n",
    "                                         description=\"Label\"))\n",
    "new_las.label = labels\n",
    "\n",
    "new_las.add_extra_dim(laspy.ExtraBytesParams(name=\"normal_x\", type=\"float\",\n",
    "                  description=\"normal_x\"))\n",
    "new_las.add_extra_dim(laspy.ExtraBytesParams(name=\"normal_y\", type=\"float\",\n",
    "                  description=\"normal_y\"))    \n",
    "new_las.add_extra_dim(laspy.ExtraBytesParams(name=\"normal_z\", type=\"float\",\n",
    "                  description=\"normal_z\"))\n",
    "new_las.normal_x = normals[:,0]\n",
    "new_las.normal_y = normals[:,1]\n",
    "new_las.normal_z = normals[:,2]\n",
    "\n",
    "new_las.write(f'../datasets/pointcloud/tree_{tilecode}.laz')"
   ]
  },
  {
   "cell_type": "code",
   "execution_count": null,
   "id": "c091d643",
   "metadata": {},
   "outputs": [],
   "source": []
  }
 ],
 "metadata": {
  "kernelspec": {
   "display_name": "Python 3 (ipykernel)",
   "language": "python",
   "name": "python3"
  },
  "language_info": {
   "codemirror_mode": {
    "name": "ipython",
    "version": 3
   },
   "file_extension": ".py",
   "mimetype": "text/x-python",
   "name": "python",
   "nbconvert_exporter": "python",
   "pygments_lexer": "ipython3",
   "version": "3.9.13"
  }
 },
 "nbformat": 4,
 "nbformat_minor": 5
}
