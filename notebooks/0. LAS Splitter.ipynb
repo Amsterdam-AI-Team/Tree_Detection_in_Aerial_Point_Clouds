{
 "cells": [
  {
   "attachments": {},
   "cell_type": "markdown",
   "id": "1702b082-8550-42f1-a57a-db4a0ef03899",
   "metadata": {},
   "source": [
    "# Split AHN raw data into subtiles and generate matching DTM\n",
    "\n",
    "Raw AHN pointclouds are rather large to process (5x6.25 km, up to 10GB), therefore we first further subdivide them into more manageable chunks while also making sure that the whole city area is covered.\n",
    "\n",
    "Subtiles can be of fixed square dimensions (e.g. 1x1 km)."
   ]
  },
  {
   "cell_type": "code",
   "execution_count": null,
   "id": "3f8a4d31-8655-4a6b-b8d7-c26cfb1d9010",
   "metadata": {},
   "outputs": [],
   "source": [
    "import numpy as np\n",
    "import pathlib\n",
    "import laspy\n",
    "import shapely.geometry as sg\n",
    "import geopandas as gpd\n",
    "from tqdm.notebook import tqdm\n",
    "\n",
    "from upcp.utils import clip_utils\n",
    "\n",
    "import set_path\n",
    "from gvl.helper_functions import (\n",
    "    roundup,\n",
    "    rounddown,\n",
    "    box_to_name,\n",
    "    get_tilecode_from_filename,\n",
    "    process_ahn_las_tile,\n",
    ")"
   ]
  },
  {
   "attachments": {},
   "cell_type": "markdown",
   "id": "6f517e19",
   "metadata": {},
   "source": [
    "Note: the folder structure in the following cell serves for illustation purposes only."
   ]
  },
  {
   "cell_type": "code",
   "execution_count": null,
   "id": "c7c2cfed-baba-4543-b931-3f8f4ed9db89",
   "metadata": {},
   "outputs": [],
   "source": [
    "BASE_FOLDER = \"../datasets/AHN4\"\n",
    "\n",
    "ahn_raw_folder = f\"{BASE_FOLDER}/Bronbestanden/\"\n",
    "ahn_subtile_folder = f\"{BASE_FOLDER}/AMS_subtiles_1000/\"\n",
    "\n",
    "# Dimension of each tile in meters (both sides have the same length)\n",
    "tile_size = 1000\n",
    "# Buffer around each tile (in meters) to have overlap.\n",
    "tile_buffer = 5\n",
    "\n",
    "pathlib.Path(ahn_subtile_folder).mkdir(parents=True, exist_ok=True)"
   ]
  },
  {
   "attachments": {},
   "cell_type": "markdown",
   "id": "f24d65f9-500b-45dd-8905-8711e5549214",
   "metadata": {},
   "source": [
    "## Data preparation"
   ]
  },
  {
   "attachments": {},
   "cell_type": "markdown",
   "id": "68677da9-c672-4814-9a80-864bfd2e83c0",
   "metadata": {},
   "source": [
    "### Read stadsdelen shapes"
   ]
  },
  {
   "cell_type": "code",
   "execution_count": null,
   "id": "c2f36d90-56c5-4980-a47a-0b337ac467fc",
   "metadata": {},
   "outputs": [],
   "source": [
    "# Download \"stadsdelen\" JSON data\n",
    "import urllib.request, json\n",
    "\n",
    "with urllib.request.urlopen(\n",
    "    \"https://maps.amsterdam.nl/open_geodata/geojson_lnglat.php?KAARTLAAG=INDELING_STADSDEEL&THEMA=gebiedsindeling\"\n",
    ") as url:\n",
    "    data = json.loads(url.read().decode())\n",
    "\n",
    "# Convert to GeoDataFrame\n",
    "ams_gdf = gpd.GeoDataFrame.from_features(data[\"features\"], crs=\"WGS84\")\n",
    "ams_gdf.to_crs(crs=\"epsg:28992\", inplace=True)"
   ]
  },
  {
   "cell_type": "code",
   "execution_count": null,
   "id": "80283da5-80d0-4049-93a7-bbc58627d6c0",
   "metadata": {},
   "outputs": [],
   "source": [
    "# Get bounds of city area\n",
    "bounds = ams_gdf.unary_union.bounds\n",
    "\n",
    "# Round bounds up / down to nearest multiple of box_size\n",
    "ams_bounds = (\n",
    "    rounddown(bounds[0], tile_size),\n",
    "    rounddown(bounds[1], tile_size),\n",
    "    roundup(bounds[2], tile_size),\n",
    "    roundup(bounds[3], tile_size),\n",
    ")"
   ]
  },
  {
   "attachments": {},
   "cell_type": "markdown",
   "id": "72a9bb13-35e8-490d-bc9a-119444d33c9d",
   "metadata": {},
   "source": [
    "## Generate subtiles for the target area"
   ]
  },
  {
   "cell_type": "code",
   "execution_count": null,
   "id": "67693870-6084-4a07-9b57-d66a0ac2e09a",
   "metadata": {},
   "outputs": [],
   "source": [
    "# Create grid of square subtiles with dimensions box_size spanning the city area\n",
    "xs = np.arange(ams_bounds[0], ams_bounds[2], tile_size)\n",
    "ys = np.arange(ams_bounds[1], ams_bounds[3], tile_size)\n",
    "\n",
    "geoms = [sg.box(x, y, x + tile_size, y + tile_size) for x in xs for y in ys]\n",
    "names = [box_to_name(box, tile_size) for box in geoms]\n",
    "\n",
    "ams_subtiles_gdf = gpd.GeoDataFrame({\"name\": names, \"geometry\": geoms})\n",
    "\n",
    "# target_shape = so.unary_union([all_tiles_merged.unary_union, ams_gdf.unary_union])\n",
    "target_shape = ams_gdf.unary_union\n",
    "\n",
    "ams_subtiles_gdf = ams_subtiles_gdf[ams_subtiles_gdf.intersects(target_shape)]"
   ]
  },
  {
   "cell_type": "code",
   "execution_count": null,
   "id": "18aa21a4-ca2e-4c30-bc59-a2f4ccfd63ec",
   "metadata": {},
   "outputs": [],
   "source": [
    "# List all LAZ files, one example tile from geotiles.nl: https://ns_hwh.fundaments.nl/hwh-ahn/ahn4/01_LAZ/C_25EZ1.LAZ\n",
    "ahn_raw_files = list(pathlib.Path(ahn_raw_folder).glob(\"*.LAZ\"))\n",
    "\n",
    "# Compute bounds for each file\n",
    "bounds = []\n",
    "for f in ahn_raw_files:\n",
    "    with laspy.open(f) as las:\n",
    "        [x_min, y_min] = las.header.mins[0:2]\n",
    "        [x_max, y_max] = las.header.maxs[0:2]\n",
    "        bounds.append([x_min, y_min, x_max, y_max])\n",
    "\n",
    "# Add all shapes to GeoDataFrame\n",
    "ahn_raw_gdf = gpd.GeoDataFrame(\n",
    "    {\n",
    "        \"filename\": [f.name for f in ahn_raw_files],\n",
    "        \"geometry\": [sg.box(*b) for b in bounds],\n",
    "    }\n",
    ")\n",
    "\n",
    "ahn_raw_gdf = ahn_raw_gdf[ahn_raw_gdf.intersects(ams_subtiles_gdf.unary_union)]"
   ]
  },
  {
   "cell_type": "code",
   "execution_count": null,
   "id": "3c068019-7c88-449d-9916-eb7f2cab81f3",
   "metadata": {},
   "outputs": [],
   "source": [
    "# Check existing files (ignore this cell to re-run for all tiles)\n",
    "existing_subtiles = list(pathlib.Path(ahn_subtile_folder).glob(\"*.laz\"))\n",
    "existing_subtiles = {subtile.name[-11:-4] for subtile in existing_subtiles}\n",
    "\n",
    "ams_subtiles_gdf[\"exists\"] = ams_subtiles_gdf.name.isin(existing_subtiles)\n",
    "ams_subtiles_gdf = ams_subtiles_gdf[~ams_subtiles_gdf.exists]\n",
    "\n",
    "if len(ams_subtiles_gdf) == 0:\n",
    "    print(\"All tiles already created, nothing else to do.\")\n",
    "else:\n",
    "    ahn_raw_gdf[\"needed\"] = ahn_raw_gdf.apply(\n",
    "        lambda row: row[\"geometry\"].intersects(ams_subtiles_gdf.unary_union), axis=1\n",
    "    )\n",
    "    ahn_raw_gdf = ahn_raw_gdf[ahn_raw_gdf.needed]"
   ]
  },
  {
   "attachments": {},
   "cell_type": "markdown",
   "id": "5011f3d9-09bf-4d18-9076-dbc99d46a99a",
   "metadata": {},
   "source": [
    "### Plotting (optional)"
   ]
  },
  {
   "cell_type": "code",
   "execution_count": null,
   "id": "e8064080-b953-43df-acba-8ade2fd0f526",
   "metadata": {},
   "outputs": [],
   "source": [
    "%matplotlib widget\n",
    "import matplotlib.pyplot as plt\n",
    "\n",
    "fig, ax = plt.subplots(figsize=(5, 4))\n",
    "\n",
    "ahn_raw_gdf.plot(ax=ax, color=\"grey\", alpha=0.25)\n",
    "ams_subtiles_gdf.plot(ax=ax, color=\"grey\", edgecolor=\"black\", alpha=0.5)\n",
    "ams_gdf.plot(ax=ax, color=\"lightblue\", alpha=0.5)"
   ]
  },
  {
   "attachments": {},
   "cell_type": "markdown",
   "id": "b0cbbf15-a0d0-4415-ab73-ffe311ff0ae3",
   "metadata": {},
   "source": [
    "## Perform splitting"
   ]
  },
  {
   "cell_type": "code",
   "execution_count": null,
   "id": "e81fbb51-e225-4b7a-b3fc-ae317e5406b3",
   "metadata": {},
   "outputs": [],
   "source": [
    "# We use chunked reading & writing to prevent memory issues.\n",
    "# Set number of points to be read for each chunk.\n",
    "points_per_iter = int(1e6)"
   ]
  },
  {
   "cell_type": "code",
   "execution_count": null,
   "id": "f29cf8f6-91a4-48f4-8072-9da10c6594ec",
   "metadata": {},
   "outputs": [],
   "source": [
    "# Add buffer and compute bounds.\n",
    "ams_subtiles_gdf[\"geometry\"] = ams_subtiles_gdf.buffer(tile_buffer)\n",
    "ams_subtiles_gdf[\"bounds\"] = ams_subtiles_gdf.apply(\n",
    "    lambda row: row[\"geometry\"].bounds, axis=1\n",
    ")"
   ]
  },
  {
   "cell_type": "code",
   "execution_count": null,
   "id": "e52cb4c7-9f3a-47ff-a291-64f9124614e5",
   "metadata": {},
   "outputs": [],
   "source": [
    "# Reset index for easier looping in code below.\n",
    "ams_subtiles_gdf.reset_index(inplace=True, drop=True)"
   ]
  },
  {
   "cell_type": "code",
   "execution_count": null,
   "id": "32822f7a-a915-4e89-b777-45aeba9f0cec",
   "metadata": {},
   "outputs": [],
   "source": [
    "# Compute total number of points to read for progress bar.\n",
    "ahn_total_points = 0\n",
    "for f in list(ahn_raw_gdf[\"filename\"]):\n",
    "    file_path = pathlib.Path(ahn_raw_folder) / f\n",
    "    with laspy.open(file_path) as las:\n",
    "        ahn_total_points += las.header.point_count"
   ]
  },
  {
   "cell_type": "code",
   "execution_count": null,
   "id": "fcc899bb-76bc-462f-a0c9-1c37012cb153",
   "metadata": {},
   "outputs": [],
   "source": [
    "from typing import List\n",
    "from typing import Optional\n",
    "\n",
    "pbar = tqdm(\n",
    "    total=ahn_total_points,\n",
    "    unit=\" points\",\n",
    "    unit_scale=True,\n",
    "    unit_divisor=1000,\n",
    "    smoothing=0,\n",
    ")\n",
    "\n",
    "writers: List[Optional[laspy.LasWriter]] = [None] * len(ams_subtiles_gdf)\n",
    "\n",
    "for _, row in ahn_raw_gdf.iterrows():\n",
    "    # Loop over AHN raw source tiles\n",
    "    ahn_file = row[\"filename\"]\n",
    "    ahn_shape = row[\"geometry\"]\n",
    "    pbar.set_postfix_str(ahn_file)\n",
    "    file_path = pathlib.Path(ahn_raw_folder) / ahn_file\n",
    "    with laspy.open(file_path) as file:\n",
    "        try:\n",
    "            for points in file.chunk_iterator(points_per_iter):\n",
    "                # For performance we need to use copy\n",
    "                # so that the underlying arrays are contiguous\n",
    "                points_xy = np.vstack((points.x.copy(), points.y.copy())).T\n",
    "\n",
    "                for i, row in ams_subtiles_gdf.iterrows():\n",
    "                    # Loop over target subtiles.\n",
    "\n",
    "                    # Check if the subtile intersects the source tile, if not skip.\n",
    "                    if not sg.box(*row[\"bounds\"]).intersects(ahn_shape):\n",
    "                        continue\n",
    "\n",
    "                    # Clip the points from this chunck that fall within the subtile.\n",
    "                    mask = clip_utils.rectangle_clip(points_xy, row[\"bounds\"])\n",
    "\n",
    "                    # Write the points to the corresponding subtile.\n",
    "                    if np.any(mask):\n",
    "                        if writers[i] is None:\n",
    "                            output_path = (\n",
    "                                pathlib.Path(ahn_subtile_folder)\n",
    "                                / f\"ahn4_{row['name']}.laz\"\n",
    "                            )\n",
    "                            writers[i] = laspy.open(\n",
    "                                output_path, mode=\"w\", header=file.header\n",
    "                            )\n",
    "                        sub_points = points[mask]\n",
    "                        writers[i].write_points(sub_points)\n",
    "\n",
    "                pbar.update(len(points))\n",
    "        finally:\n",
    "            pass\n",
    "pbar.close()\n",
    "\n",
    "for writer in writers:\n",
    "    if writer is not None:\n",
    "        writer.close()"
   ]
  },
  {
   "attachments": {},
   "cell_type": "markdown",
   "id": "23c26f0a-7429-4934-9ba0-46ff9a52cc1f",
   "metadata": {},
   "source": [
    "## Generate matching DTM as .npz files"
   ]
  },
  {
   "cell_type": "code",
   "execution_count": null,
   "id": "d5d04cc9-1039-4f71-952a-628221677493",
   "metadata": {},
   "outputs": [],
   "source": [
    "# Generate .npz data for all tiles\n",
    "ahn_npz_folder = f\"{BASE_FOLDER}/npz_subtiles_1000/\"\n",
    "\n",
    "# Set the resolution for the DTM\n",
    "dtm_resolution = 0.5\n",
    "\n",
    "files = list(pathlib.Path(ahn_subtile_folder).glob(\"ahn*.laz\"))\n",
    "pathlib.Path(ahn_npz_folder).mkdir(parents=True, exist_ok=True)"
   ]
  },
  {
   "cell_type": "code",
   "execution_count": null,
   "id": "69b21b9f-8d0c-4bab-aeb7-dd9bd20a274e",
   "metadata": {},
   "outputs": [],
   "source": [
    "# Check existing files (ignore this cell to re-run for all tiles)\n",
    "existing_files = list(pathlib.Path(ahn_npz_folder).glob(\"*.npz\"))\n",
    "existing_codes = {get_tilecode_from_filename(file.name) for file in existing_files}\n",
    "\n",
    "files = [\n",
    "    file\n",
    "    for file in files\n",
    "    if get_tilecode_from_filename(file.name) not in existing_codes\n",
    "]"
   ]
  },
  {
   "cell_type": "code",
   "execution_count": null,
   "id": "6fb38e0a-2ae2-4f9d-beba-e6d8c43b3a0d",
   "metadata": {},
   "outputs": [],
   "source": [
    "# Generate .npz files for each subtile, containing the ground surface (maaiveld).\n",
    "file_tqdm = tqdm(files, unit=\"file\", smoothing=0)\n",
    "for file in file_tqdm:\n",
    "    process_ahn_las_tile(file, out_folder=ahn_npz_folder, resolution=dtm_resolution)"
   ]
  },
  {
   "attachments": {},
   "cell_type": "markdown",
   "id": "40de0778-367e-469d-b78e-19a8f154dc16",
   "metadata": {},
   "source": [
    "### Plotting (optional)"
   ]
  },
  {
   "cell_type": "code",
   "execution_count": null,
   "id": "c24268a6-c5ce-48c1-9b14-f8536e56d19d",
   "metadata": {},
   "outputs": [],
   "source": [
    "# Optional: load one DTM tile and visualize the data.\n",
    "data = np.load(f\"{BASE_FOLDER}/npz_subtiles_1000/ahn_118_486.npz\")\n",
    "\n",
    "%matplotlib widget\n",
    "import matplotlib.pyplot as plt\n",
    "\n",
    "fig = plt.figure(figsize=(9, 6))\n",
    "\n",
    "ax = fig.add_subplot(111)\n",
    "ax.set_title(\"colorMap\")\n",
    "plt.imshow(data[\"ground\"])\n",
    "ax.set_aspect(\"equal\")\n",
    "\n",
    "cax = fig.add_axes([0.12, 0.1, 0.78, 0.8])\n",
    "cax.get_xaxis().set_visible(False)\n",
    "cax.get_yaxis().set_visible(False)\n",
    "cax.patch.set_alpha(0)\n",
    "cax.set_frame_on(False)\n",
    "plt.colorbar(ax=cax, orientation=\"vertical\")\n",
    "plt.show()"
   ]
  }
 ],
 "metadata": {
  "kernelspec": {
   "display_name": "Python 3 (ipykernel)",
   "language": "python",
   "name": "python3"
  },
  "language_info": {
   "codemirror_mode": {
    "name": "ipython",
    "version": 3
   },
   "file_extension": ".py",
   "mimetype": "text/x-python",
   "name": "python",
   "nbconvert_exporter": "python",
   "pygments_lexer": "ipython3",
   "version": "3.9.16"
  }
 },
 "nbformat": 4,
 "nbformat_minor": 5
}
