{
 "cells": [
  {
   "cell_type": "code",
   "execution_count": 1,
   "id": "2338e310-5115-4c88-90a8-63adc9019d42",
   "metadata": {},
   "outputs": [
    {
     "name": "stderr",
     "output_type": "stream",
     "text": [
      "<frozen importlib._bootstrap>:219: RuntimeWarning: scipy._lib.messagestream.MessageStream size changed, may indicate binary incompatibility. Expected 56 from C header, got 64 from PyObject\n"
     ]
    }
   ],
   "source": [
    "import set_path\n",
    "\n",
    "import numpy as np\n",
    "import laspy\n",
    "import geopandas as gpd\n",
    "\n",
    "import open3d as o3d\n",
    "\n",
    "from upcp.utils import ahn_utils, clip_utils\n",
    "from upcp.utils.interpolation import FastGridInterpolator\n",
    "\n",
    "from gvl.helper_functions import color_clusters\n",
    "from gvl.tree_detector import DetectorTree\n",
    "from gvl.ahn_utils import GeoTIFFReader2"
   ]
  },
  {
   "cell_type": "code",
   "execution_count": 2,
   "id": "824f19ce-ca70-4952-9db2-5f8bdf8130fa",
   "metadata": {},
   "outputs": [],
   "source": [
    "import warnings  # temporary, to supress deprecationwarnings from shapely\n",
    "warnings.filterwarnings('ignore')"
   ]
  },
  {
   "cell_type": "code",
   "execution_count": 3,
   "id": "5b54fcb7-5d6f-41e3-bc42-7d9b6d99f700",
   "metadata": {},
   "outputs": [],
   "source": [
    "RD_CRS = 'epsg:28992'\n",
    "LL_CRS = 'WGS84'\n",
    "\n",
    "# AHN classification\n",
    "AHN_OTHER = 1\n",
    "AHN_GROUND = 2\n",
    "AHN_BUILDING = 6\n",
    "AHN_WATER = 9\n",
    "AHN_ARTIFACT = 26"
   ]
  },
  {
   "cell_type": "code",
   "execution_count": 4,
   "id": "f8b0a3f4-626b-4417-be95-b694f4a25e09",
   "metadata": {},
   "outputs": [],
   "source": [
    "# # Use CycloMedia style tilecodes\n",
    "# tilecode = '2463_9714'\n",
    "\n",
    "# las_file = f'../datasets/ahn_{tilecode}.laz'\n",
    "# ahn_npz_folder = '../../../datasets/Accessibility_oost/ahn/ahn4_npz/'\n",
    "\n",
    "# ahn_reader = ahn_utils.NPZReader(ahn_npz_folder, caching=False)"
   ]
  },
  {
   "cell_type": "markdown",
   "id": "ae99a02a",
   "metadata": {},
   "source": [
    "### TODO make geotiles scraper\n",
    "We use 5m resolution. The ground filter improvements when using is 0.5m is negligible and running time increases."
   ]
  },
  {
   "cell_type": "code",
   "execution_count": 5,
   "id": "ccb79c90-d521-46a0-bc45-49f786a47799",
   "metadata": {},
   "outputs": [],
   "source": [
    "# Use AHN subtiles\n",
    "tilecode = '25GN1_04'\n",
    "\n",
    "las_file = f'../datasets/ahn_laz/{tilecode}.LAZ'\n",
    "ahn_geotiff_folder = '../datasets/ahn_dtm/'\n",
    "\n",
    "ahn_reader = GeoTIFFReader2(ahn_geotiff_folder, fill_gaps=False,\n",
    "                            smoothen=True, smooth_thickness=2)"
   ]
  },
  {
   "cell_type": "code",
   "execution_count": 6,
   "id": "34cb9e06",
   "metadata": {},
   "outputs": [],
   "source": [
    "target_area = gpd.read_file(f'../datasets/validation/correct_trees_areas_oosterpark.shp', crs=RD_CRS)\n",
    "one_poly = target_area['geometry'].iloc[1]"
   ]
  },
  {
   "cell_type": "code",
   "execution_count": 7,
   "id": "8dbda7ed-5cab-42c9-b48d-67b7f6839373",
   "metadata": {},
   "outputs": [],
   "source": [
    "bbox = target_area.unary_union.bounds\n",
    "#bbox = one_poly.bounds"
   ]
  },
  {
   "cell_type": "code",
   "execution_count": 8,
   "id": "5920ccdb",
   "metadata": {},
   "outputs": [],
   "source": [
    "target_area_points = gpd.read_file(f'../datasets/validation/correct_trees_oosterpark.shp', crs=RD_CRS)\n"
   ]
  },
  {
   "cell_type": "code",
   "execution_count": 9,
   "id": "be470a02",
   "metadata": {},
   "outputs": [],
   "source": [
    "target_area_points = target_area_points.to_crs(RD_CRS)"
   ]
  },
  {
   "cell_type": "code",
   "execution_count": 10,
   "id": "1a06e95a",
   "metadata": {},
   "outputs": [],
   "source": [
    "jm = target_area.head(2).tail(1)"
   ]
  },
  {
   "cell_type": "code",
   "execution_count": 11,
   "id": "2e50420e",
   "metadata": {},
   "outputs": [],
   "source": [
    "from shapely.geometry import Point, Polygon\n",
    "\n",
    "listje = []\n",
    "for point in list(target_area_points['geometry'].values):\n",
    "    poly = Polygon(jm['geometry'].values[0])\n",
    "    if jm['geometry'].values[0].intersects(point):\n",
    "        listje.append(point)"
   ]
  },
  {
   "cell_type": "code",
   "execution_count": 12,
   "id": "a68263cb",
   "metadata": {},
   "outputs": [
    {
     "data": {
      "image/svg+xml": [
       "<svg xmlns=\"http://www.w3.org/2000/svg\" xmlns:xlink=\"http://www.w3.org/1999/xlink\" width=\"203.80415796545276\" height=\"106.63240015308838\" viewBox=\"123699.085622529 486174.42452225956 203.80415796545276 106.63240015308838\" preserveAspectRatio=\"xMinYMin meet\"><g transform=\"matrix(1,0,0,-1,0,972455.4814446722)\"><path fill-rule=\"evenodd\" fill=\"#66cc99\" stroke=\"#555555\" stroke-width=\"2.0\" opacity=\"0.6\" d=\"M 123706.63392467587,486209.7639471408 L 123895.34147834759,486273.50862026575 L 123890.09420342572,486241.8306272189 L 123716.93413100399,486181.97282440646 L 123706.63392467587,486209.7639471408 z\" /></g></svg>"
      ],
      "text/plain": [
       "<shapely.geometry.polygon.Polygon at 0x7fa301411550>"
      ]
     },
     "execution_count": 12,
     "metadata": {},
     "output_type": "execute_result"
    }
   ],
   "source": [
    "jm['geometry'].values[0]"
   ]
  },
  {
   "cell_type": "code",
   "execution_count": 13,
   "id": "78b85944",
   "metadata": {},
   "outputs": [],
   "source": [
    "import pandas as pd\n",
    "df = pd.DataFrame(listje)"
   ]
  },
  {
   "cell_type": "code",
   "execution_count": 14,
   "id": "d1711d5b",
   "metadata": {},
   "outputs": [],
   "source": [
    "df = df.rename(columns={0: \"geometry\"})"
   ]
  },
  {
   "cell_type": "code",
   "execution_count": 15,
   "id": "d116cccd",
   "metadata": {},
   "outputs": [],
   "source": [
    "gp_df = gpd.GeoDataFrame(df, crs=RD_CRS)"
   ]
  },
  {
   "cell_type": "code",
   "execution_count": 16,
   "id": "66324f9c",
   "metadata": {},
   "outputs": [],
   "source": [
    "df['bgt_type'] = 'boom'\n",
    "df['X'] = gp_df['geometry'].x\n",
    "df['Y'] = gp_df['geometry'].y\n",
    "df = df.drop('geometry', 1)\n"
   ]
  },
  {
   "cell_type": "code",
   "execution_count": 17,
   "id": "9ea7f4b9",
   "metadata": {},
   "outputs": [],
   "source": [
    "df.to_csv('custom_poles_demo.csv', index=False)"
   ]
  },
  {
   "cell_type": "code",
   "execution_count": 18,
   "id": "b2fbb916",
   "metadata": {},
   "outputs": [],
   "source": [
    "gp_df.to_file(\"one_geometry_points.shp\")"
   ]
  },
  {
   "cell_type": "code",
   "execution_count": 19,
   "id": "6ffa8ab0",
   "metadata": {},
   "outputs": [],
   "source": [
    "jm.to_file(\"one_geometry.shp\")"
   ]
  },
  {
   "cell_type": "code",
   "execution_count": 20,
   "id": "57291040-c2a0-46c7-8931-94b348d61376",
   "metadata": {},
   "outputs": [],
   "source": [
    "las = laspy.read(las_file)\n",
    "pts = np.vstack((las.x, las.y, las.z)).T"
   ]
  },
  {
   "cell_type": "markdown",
   "id": "fa516264",
   "metadata": {},
   "source": [
    "### Filter 1: scalar fields and clip\n",
    "- classification -> 'overig label' points\n",
    "\n",
    "We dont want to filter in the number_of_returns scalar field. It will remove too much valuable tree points. "
   ]
  },
  {
   "cell_type": "code",
   "execution_count": 21,
   "id": "5007a5c6-fdf0-4339-adee-b3a59cdf32b5",
   "metadata": {},
   "outputs": [],
   "source": [
    "area_mask = clip_utils.rectangle_clip(pts, bbox)\n",
    "class_mask = las.classification == AHN_OTHER\n",
    "\n",
    "mask = class_mask & area_mask"
   ]
  },
  {
   "cell_type": "code",
   "execution_count": 22,
   "id": "b5df02a4-c3c6-4eb0-ba44-9e73e940cbff",
   "metadata": {},
   "outputs": [],
   "source": [
    "points_dtype = np.dtype([('X', '<f8'), ('Y', '<f8'), ('Z', '<f8'),\n",
    "                         ('NZ', '<f8'), ('HAG', '<f8'),\n",
    "                         ('Classification', '<i4'), ('NumberOfReturns', '<i4'), ('ReturnNumber', '<i4')])\n",
    "points = np.empty(shape=(np.count_nonzero(mask),), dtype=points_dtype)"
   ]
  },
  {
   "cell_type": "code",
   "execution_count": 23,
   "id": "9148691f-0c46-4e7e-9a0d-2090c16ad54b",
   "metadata": {},
   "outputs": [],
   "source": [
    "o3d_pc = o3d.geometry.PointCloud()\n",
    "o3d_pc.points = o3d.utility.Vector3dVector(pts[mask])\n",
    "o3d_pc.estimate_normals(\n",
    "    search_param=o3d.geometry.KDTreeSearchParamHybrid(radius=0.5,\n",
    "                                                      max_nn=30))"
   ]
  },
  {
   "cell_type": "code",
   "execution_count": 24,
   "id": "43a7bc4f-545f-460b-a601-32bd8cd6f1db",
   "metadata": {},
   "outputs": [],
   "source": [
    "gnd_tile = ahn_reader.filter_area(bbox)\n",
    "\n",
    "fast_z = FastGridInterpolator(\n",
    "            gnd_tile['x'], gnd_tile['y'], gnd_tile['ground_surface'])\n",
    "gnd_z = fast_z(pts[mask])"
   ]
  },
  {
   "cell_type": "code",
   "execution_count": 25,
   "id": "ce685044-9219-43fa-b6dd-8d1613305943",
   "metadata": {},
   "outputs": [
    {
     "data": {
      "text/plain": [
       "0"
      ]
     },
     "execution_count": 25,
     "metadata": {},
     "output_type": "execute_result"
    }
   ],
   "source": [
    "np.count_nonzero(gnd_z == np.nan)"
   ]
  },
  {
   "cell_type": "code",
   "execution_count": 26,
   "id": "189a4a82-7785-42b2-a1a8-41ff6af36079",
   "metadata": {},
   "outputs": [],
   "source": [
    "points['X'] = pts[mask,0]\n",
    "points['Y'] = pts[mask,1]\n",
    "points['Z'] = pts[mask,2]\n",
    "points['NZ'] = np.asarray(o3d_pc.normals)[:,2]\n",
    "points['HAG'] = pts[mask,2] - gnd_z\n",
    "points['Classification'] = las.classification[mask] # TODO always AHN_OTHER\n",
    "points['NumberOfReturns'] = las.number_of_returns[mask]\n",
    "points['ReturnNumber'] = las.return_number[mask]"
   ]
  },
  {
   "cell_type": "markdown",
   "id": "ea7b1d74",
   "metadata": {},
   "source": [
    "### Filter 2: points close to ground\n",
    "TODO move this before the KDTree code"
   ]
  },
  {
   "cell_type": "code",
   "execution_count": 45,
   "id": "1eb5a8c5",
   "metadata": {},
   "outputs": [],
   "source": [
    "above_ground_in_meters = 2.5\n",
    "raw_points = points[points['HAG'] >= above_ground_in_meters]"
   ]
  },
  {
   "cell_type": "code",
   "execution_count": 46,
   "id": "985520ea",
   "metadata": {},
   "outputs": [],
   "source": [
    "kk = list(zip(*raw_points))\n",
    "\n",
    "points_3d = np.vstack((kk[0], kk[1], kk[2])).T\n",
    "#points_3d = np.vstack((pts[mask,0], pts[mask,1], pts[mask,2])).T"
   ]
  },
  {
   "cell_type": "markdown",
   "id": "d4e76b42",
   "metadata": {},
   "source": [
    "### Filter 3: Noise filter\n",
    "TODO create"
   ]
  },
  {
   "cell_type": "markdown",
   "id": "5fbc11aa",
   "metadata": {},
   "source": [
    "# LCC"
   ]
  },
  {
   "cell_type": "code",
   "execution_count": 47,
   "id": "cfc6f8fc",
   "metadata": {},
   "outputs": [],
   "source": [
    "from upcp.utils.clip_utils import poly_box_clip\n",
    "from upcp.utils.math_utils import minimum_bounding_rectangle\n",
    "\n",
    "def _label_tree_like_components(points, point_components,\n",
    "                               road_polygons, min_length):\n",
    "    \"\"\" Based on certain properties of a tree we label clusters.  \"\"\"\n",
    "    \n",
    "    # TODO add height info\n",
    "\n",
    "    tree_mask = np.zeros(len(points), dtype=bool)\n",
    "    tree_count = 0\n",
    "\n",
    "    cc_labels = np.unique(point_components)\n",
    "\n",
    "    cc_labels = set(cc_labels).difference((-1,))\n",
    "\n",
    "    for cc in cc_labels:\n",
    "        # select points that belong to the cluster\n",
    "        cc_mask = (point_components == cc)\n",
    "\n",
    "        valid_values = points[cc_mask]\n",
    "\n",
    "        if valid_values.size != 0:\n",
    "            cc_z = np.mean(valid_values)\n",
    "            mbrect, conv_hull, mbr_width, mbr_length, _ =\\\n",
    "                minimum_bounding_rectangle(points[cc_mask][:, :2])\n",
    "            p1 = Polygon(conv_hull)\n",
    "            for p2 in road_polygons:\n",
    "                do_overlap = p1.intersects(p2)\n",
    "                if do_overlap:\n",
    "                    tree_mask[cc_mask] = True\n",
    "                    tree_count += 1\n",
    "                    break\n",
    "\n",
    "    print(f'{tree_count} tree labelled.')\n",
    "\n",
    "    return tree_mask"
   ]
  },
  {
   "cell_type": "code",
   "execution_count": 48,
   "id": "a0c3d35e",
   "metadata": {},
   "outputs": [],
   "source": [
    "tree_points = list(target_area_points['geometry'].values) # gp_df"
   ]
  },
  {
   "cell_type": "code",
   "execution_count": 49,
   "id": "a8d3fc80",
   "metadata": {},
   "outputs": [
    {
     "name": "stdout",
     "output_type": "stream",
     "text": [
      "66 cars labelled.\n"
     ]
    }
   ],
   "source": [
    "from upcp.region_growing.label_connected_comp import LabelConnectedComp\n",
    "\n",
    "label_mask = np.zeros((len(points_3d),), dtype=bool)\n",
    "\n",
    "if len(tree_points) == 0:\n",
    "    print('No reference tree points, skipping.')\n",
    "\n",
    "label = 10\n",
    "grid_size = 1.2\n",
    "min_component_size = 50\n",
    "\n",
    "min_length = 1\n",
    "\n",
    "lcc = LabelConnectedComp(label, grid_size=grid_size,\n",
    "                         min_component_size=min_component_size)\n",
    "point_components = lcc.get_components(points_3d)\n",
    "\n",
    "# Label tree like clusters\n",
    "tree_mask = _label_tree_like_components(points_3d,\n",
    "                                       point_components,\n",
    "                                       tree_points, min_length)\n",
    "label_mask = tree_mask"
   ]
  },
  {
   "cell_type": "code",
   "execution_count": 50,
   "id": "b36c191f",
   "metadata": {},
   "outputs": [],
   "source": [
    "header = laspy.LasHeader(point_format=3, version=\"1.2\")\n",
    "header.offsets = las.header.offsets\n",
    "header.scales = las.header.scales\n",
    "\n",
    "new_las = laspy.LasData(header)\n",
    "\n",
    "new_las.x = points_3d[label_mask, 0]\n",
    "new_las.y = points_3d[label_mask, 1]\n",
    "new_las.z = points_3d[label_mask, 2]\n",
    "\n",
    "new_las.write(f'trees_{tilecode}_2.laz')"
   ]
  },
  {
   "cell_type": "code",
   "execution_count": null,
   "id": "6b2d8021",
   "metadata": {},
   "outputs": [],
   "source": []
  }
 ],
 "metadata": {
  "kernelspec": {
   "display_name": "Python 3 (ipykernel)",
   "language": "python",
   "name": "python3"
  },
  "language_info": {
   "codemirror_mode": {
    "name": "ipython",
    "version": 3
   },
   "file_extension": ".py",
   "mimetype": "text/x-python",
   "name": "python",
   "nbconvert_exporter": "python",
   "pygments_lexer": "ipython3",
   "version": "3.8.12"
  }
 },
 "nbformat": 4,
 "nbformat_minor": 5
}
