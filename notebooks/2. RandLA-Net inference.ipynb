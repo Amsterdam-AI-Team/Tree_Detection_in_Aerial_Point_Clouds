{
 "cells": [
  {
   "cell_type": "markdown",
   "id": "49da1297-9823-4248-b345-68ba31fff9ca",
   "metadata": {},
   "source": [
    "# Run RandLA-Net on the reduced AHN point clouds\n",
    "\n",
    "If the pre-processing notebook already generates satisfying results (i.e. the \"unknown\" class contains only trees), then this notebook can be skipped. Otherwise, it is possible to run the deep semantic segmentation model RandLA-Net on the \"unknown\" class for further classify the point cloud."
   ]
  },
  {
   "cell_type": "markdown",
   "id": "47b105a1-8470-4bd6-b120-949e92d2d516",
   "metadata": {},
   "source": [
    "The RandLA-Net code and general instructions are provided here: https://github.com/Amsterdam-AI-Team/RandLA-Net. Download the pretrained model [here](todo) and put it in the folder `snapshots`. Given that the output folder of notebook 1 is `preprocessed_dir`, inference can be run as follows:\n",
    "\n",
    "```\n",
    "python3 main.py --mode 'test' --use_intensity --use_normals --config_file 'AHNTrees' --in_folder 'preprocessed_dir' --out_folder 'predicted_dir' --snap_folder 'snapshots/snap-11501'\n",
    "```"
   ]
  },
  {
   "cell_type": "code",
   "execution_count": null,
   "id": "c9fe6fbd",
   "metadata": {},
   "outputs": [],
   "source": []
  }
 ],
 "metadata": {
  "kernelspec": {
   "display_name": "Python 3 (ipykernel)",
   "language": "python",
   "name": "python3"
  },
  "language_info": {
   "codemirror_mode": {
    "name": "ipython",
    "version": 3
   },
   "file_extension": ".py",
   "mimetype": "text/x-python",
   "name": "python",
   "nbconvert_exporter": "python",
   "pygments_lexer": "ipython3",
   "version": "3.9.13"
  }
 },
 "nbformat": 4,
 "nbformat_minor": 5
}
