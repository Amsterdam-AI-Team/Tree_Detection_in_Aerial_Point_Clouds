{
 "cells": [
  {
   "cell_type": "code",
   "execution_count": null,
   "id": "2338e310-5115-4c88-90a8-63adc9019d42",
   "metadata": {},
   "outputs": [],
   "source": [
    "import set_path\n",
    "\n",
    "import numpy as np\n",
    "import laspy\n",
    "import geopandas as gpd\n",
    "\n",
    "import open3d as o3d\n",
    "\n",
    "from upcp.utils import ahn_utils, clip_utils\n",
    "\n",
    "from gvl.helper_functions import color_clusters\n",
    "from gvl.tree_detector import DetectorTree"
   ]
  },
  {
   "cell_type": "code",
   "execution_count": null,
   "id": "824f19ce-ca70-4952-9db2-5f8bdf8130fa",
   "metadata": {},
   "outputs": [],
   "source": [
    "import warnings  # temporary, to supress deprecationwarnings from shapely\n",
    "warnings.filterwarnings('ignore')"
   ]
  },
  {
   "cell_type": "code",
   "execution_count": null,
   "id": "ccb79c90-d521-46a0-bc45-49f786a47799",
   "metadata": {},
   "outputs": [],
   "source": [
    "# Use AHN subtiles\n",
    "tilecode = '25DN2_20'\n",
    "\n",
    "las_file = f'../datasets/pointcloud/tree_{tilecode}.laz'"
   ]
  },
  {
   "cell_type": "code",
   "execution_count": null,
   "id": "57291040-c2a0-46c7-8931-94b348d61376",
   "metadata": {},
   "outputs": [],
   "source": [
    "las = laspy.read(las_file)\n",
    "pts = np.vstack((las.x, las.y, las.z)).T"
   ]
  },
  {
   "cell_type": "code",
   "execution_count": null,
   "id": "b5df02a4-c3c6-4eb0-ba44-9e73e940cbff",
   "metadata": {},
   "outputs": [],
   "source": [
    "points_dtype = np.dtype([('X', '<f8'), ('Y', '<f8'), ('Z', '<f8'),\n",
    "                         ('Classification', '<i4')])\n",
    "n = len(las.x)\n",
    "points = np.empty(shape=(n,), dtype=points_dtype)"
   ]
  },
  {
   "cell_type": "code",
   "execution_count": null,
   "id": "189a4a82-7785-42b2-a1a8-41ff6af36079",
   "metadata": {},
   "outputs": [],
   "source": [
    "points['X'] = pts[:,0]\n",
    "points['Y'] = pts[:,1]\n",
    "points['Z'] = pts[:,2]\n",
    "points['Classification'] = las.classification # TODO label"
   ]
  },
  {
   "cell_type": "code",
   "execution_count": null,
   "id": "9252881e-05b1-4283-b903-17ade7778659",
   "metadata": {},
   "outputs": [],
   "source": [
    "tree = DetectorTree(points[las.label == 1])"
   ]
  },
  {
   "cell_type": "code",
   "execution_count": null,
   "id": "e781474f-19a3-433c-8251-d9b272ae6ad7",
   "metadata": {},
   "outputs": [],
   "source": [
    "# first clustering step\n",
    "# tree.hdbscan_on_points(min_cluster_size=30, min_samples=10, xyz=False)\n",
    "tree.hdbscan_on_points(min_cluster_size=50, min_samples=10, xyz=False)\n",
    "tree.convex_hullify(points=tree.clustered_points)\n",
    "# df_to_pg(tree.tree_df, schema='bomen', table_name='xy_bomen')"
   ]
  },
  {
   "cell_type": "code",
   "execution_count": null,
   "id": "bbb6ba60-c95c-49c0-b4c2-1d59ea8e0206",
   "metadata": {},
   "outputs": [],
   "source": [
    "tree.tree_df.plot(column='xy_clusterID', cmap='tab20')"
   ]
  },
  {
   "cell_type": "code",
   "execution_count": null,
   "id": "0d7c2e3a-0953-4cfe-9287-6812bf43b6b6",
   "metadata": {},
   "outputs": [],
   "source": [
    "# second cluster step\n",
    "tree.find_points_in_polygons(tree.tree_df)\n",
    "# tree.kmean_cluster(tree.xy_grouped_points, round_val=2, min_dist=1)\n",
    "tree.kmean_cluster(tree.xy_grouped_points, round_val=1, min_dist=3)\n",
    "tree.convex_hullify(tree.kmean_grouped_points, kmean_pols=True)\n",
    "# df_to_pg(tree.tree_df, schema='bomen', table_name='km_bomen')"
   ]
  },
  {
   "cell_type": "code",
   "execution_count": null,
   "id": "22912090-d2af-4e69-b9c7-1f380e6274b5",
   "metadata": {},
   "outputs": [],
   "source": [
    "tree.tree_df.plot(column='xy_clusterID', cmap='tab20')"
   ]
  },
  {
   "cell_type": "code",
   "execution_count": null,
   "id": "995dd79c-135b-4035-abdc-2d8154073c4b",
   "metadata": {},
   "outputs": [],
   "source": [
    "tree.tree_df"
   ]
  },
  {
   "cell_type": "code",
   "execution_count": null,
   "id": "d119f37b-70ce-4291-ac34-d72817052a32",
   "metadata": {},
   "outputs": [],
   "source": [
    "data = tree.kmean_grouped_points.to_records()"
   ]
  },
  {
   "cell_type": "code",
   "execution_count": null,
   "id": "64b079e0-8e93-4936-9511-c86c0d6406dc",
   "metadata": {},
   "outputs": [],
   "source": [
    "# Shuffle classification for better visualisation\n",
    "labels = np.unique(data['Classification'])\n",
    "new_labels = labels.copy()\n",
    "\n",
    "rng = np.random.default_rng()\n",
    "rng.shuffle(new_labels)\n",
    "\n",
    "shuffle_dict = {l: n for (l, n) in zip(labels, new_labels)}\n",
    "\n",
    "shuffle_labels = np.array([shuffle_dict[l] for l in data['Classification']])"
   ]
  },
  {
   "cell_type": "code",
   "execution_count": null,
   "id": "89f16464-c572-4f35-a975-d4faa8f4ee9e",
   "metadata": {},
   "outputs": [],
   "source": [
    "header = laspy.LasHeader(point_format=3, version=\"1.2\")\n",
    "header.offsets = las.header.offsets\n",
    "header.scales = las.header.scales\n",
    "\n",
    "new_las = laspy.LasData(header)\n",
    "\n",
    "new_las.x = data['X']\n",
    "new_las.y = data['Y']\n",
    "new_las.z = data['Z']\n",
    "\n",
    "new_las.add_extra_dim(laspy.ExtraBytesParams(name=\"label\", type=\"uint16\",\n",
    "                                         description=\"Label\"))\n",
    "new_las.label = shuffle_labels"
   ]
  },
  {
   "cell_type": "code",
   "execution_count": null,
   "id": "5a5adf79-acfd-4b4a-a0cd-1cd60c0d4f7e",
   "metadata": {},
   "outputs": [],
   "source": [
    "new_las.write(f'trees_{tilecode}_2.laz')"
   ]
  },
  {
   "cell_type": "code",
   "execution_count": null,
   "id": "61390e63-3137-4a82-b133-154ecaf3d8ab",
   "metadata": {},
   "outputs": [],
   "source": []
  }
 ],
 "metadata": {
  "kernelspec": {
   "display_name": "Python 3 (ipykernel)",
   "language": "python",
   "name": "python3"
  },
  "language_info": {
   "codemirror_mode": {
    "name": "ipython",
    "version": 3
   },
   "file_extension": ".py",
   "mimetype": "text/x-python",
   "name": "python",
   "nbconvert_exporter": "python",
   "pygments_lexer": "ipython3",
   "version": "3.8.12"
  }
 },
 "nbformat": 4,
 "nbformat_minor": 5
}
