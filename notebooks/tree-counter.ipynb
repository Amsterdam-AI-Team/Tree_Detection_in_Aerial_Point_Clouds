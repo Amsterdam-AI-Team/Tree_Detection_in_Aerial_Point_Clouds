{
 "cells": [
  {
   "cell_type": "code",
   "execution_count": null,
   "id": "2338e310-5115-4c88-90a8-63adc9019d42",
   "metadata": {},
   "outputs": [],
   "source": [
    "import set_path\n",
    "\n",
    "import numpy as np\n",
    "import laspy\n",
    "\n",
    "import open3d as o3d\n",
    "\n",
    "from upcp.utils import ahn_utils\n",
    "from upcp.utils.interpolation import FastGridInterpolator\n",
    "\n",
    "from gvl.helper_functions import color_clusters\n",
    "from gvl.tree_detector import DetectorTree"
   ]
  },
  {
   "cell_type": "code",
   "execution_count": null,
   "id": "fb948f1b-8f34-4cb2-bcf8-c9a10db926f6",
   "metadata": {},
   "outputs": [],
   "source": [
    "tilecode = '2463_9714'\n",
    "\n",
    "las_file = f'../datasets/ahn_{tilecode}.laz'\n",
    "ahn_npz_folder = '../../../datasets/Accessibility_oost/ahn/ahn4_npz/'\n",
    "\n",
    "# AHN classification\n",
    "AHN_OTHER = 1\n",
    "AHN_GROUND = 2\n",
    "AHN_BUILDING = 6\n",
    "AHN_WATER = 9\n",
    "AHN_ARTIFACT = 26"
   ]
  },
  {
   "cell_type": "code",
   "execution_count": null,
   "id": "83a54beb-0c67-401c-bc19-f87fadfe9bdf",
   "metadata": {},
   "outputs": [],
   "source": [
    "ahn_reader = ahn_utils.NPZReader(ahn_npz_folder, caching=False)"
   ]
  },
  {
   "cell_type": "code",
   "execution_count": null,
   "id": "57291040-c2a0-46c7-8931-94b348d61376",
   "metadata": {},
   "outputs": [],
   "source": [
    "las = laspy.read(las_file)"
   ]
  },
  {
   "cell_type": "code",
   "execution_count": null,
   "id": "b5df02a4-c3c6-4eb0-ba44-9e73e940cbff",
   "metadata": {},
   "outputs": [],
   "source": [
    "points_dtype = np.dtype([('X', '<f8'), ('Y', '<f8'), ('Z', '<f8'),\n",
    "                         ('NZ', '<f8'), ('HAG', '<f8'),\n",
    "                         ('Classification', '<i4'), ('NumberOfReturns', '<i4'), ('ReturnNumber', '<i4')])\n",
    "points = np.empty(shape=(las.header.point_count,), dtype=points_dtype)"
   ]
  },
  {
   "cell_type": "code",
   "execution_count": null,
   "id": "9148691f-0c46-4e7e-9a0d-2090c16ad54b",
   "metadata": {},
   "outputs": [],
   "source": [
    "o3d_pc = o3d.geometry.PointCloud()\n",
    "o3d_pc.points = o3d.utility.Vector3dVector(las.xyz)\n",
    "o3d_pc.estimate_normals(\n",
    "    search_param=o3d.geometry.KDTreeSearchParamHybrid(radius=0.5,\n",
    "                                                      max_nn=30))"
   ]
  },
  {
   "cell_type": "code",
   "execution_count": null,
   "id": "43a7bc4f-545f-460b-a601-32bd8cd6f1db",
   "metadata": {},
   "outputs": [],
   "source": [
    "gnd_tile = ahn_reader.filter_tile(tilecode)\n",
    "\n",
    "# gnd_tile = ahn_utils.fill_gaps(gnd_tile, max_gap_size=10000)\n",
    "\n",
    "fast_z = FastGridInterpolator(\n",
    "            gnd_tile['x'], gnd_tile['y'], gnd_tile['ground_surface'])\n",
    "gnd_z = fast_z(las.xyz)"
   ]
  },
  {
   "cell_type": "code",
   "execution_count": null,
   "id": "189a4a82-7785-42b2-a1a8-41ff6af36079",
   "metadata": {},
   "outputs": [],
   "source": [
    "points['X'] = las.x\n",
    "points['Y'] = las.y\n",
    "points['Z'] = las.z\n",
    "points['NZ'] = np.asarray(o3d_pc.normals)[:,2]\n",
    "points['HAG'] = las.z - gnd_z\n",
    "points['Classification'] = las.classification\n",
    "points['NumberOfReturns'] = las.number_of_returns\n",
    "points['ReturnNumber'] = las.return_number"
   ]
  },
  {
   "cell_type": "code",
   "execution_count": null,
   "id": "9252881e-05b1-4283-b903-17ade7778659",
   "metadata": {},
   "outputs": [],
   "source": [
    "tree = DetectorTree(points)"
   ]
  },
  {
   "cell_type": "code",
   "execution_count": null,
   "id": "e781474f-19a3-433c-8251-d9b272ae6ad7",
   "metadata": {},
   "outputs": [],
   "source": [
    "# first clustering step\n",
    "tree.hdbscan_on_points(min_cluster_size=30, min_samples=10, xyz=False)\n",
    "tree.convex_hullify(points=tree.clustered_points)\n",
    "# df_to_pg(tree.tree_df, schema='bomen', table_name='xy_bomen')"
   ]
  },
  {
   "cell_type": "code",
   "execution_count": null,
   "id": "bbb6ba60-c95c-49c0-b4c2-1d59ea8e0206",
   "metadata": {},
   "outputs": [],
   "source": [
    "tree.tree_df.plot(column='xy_clusterID', cmap='tab20')"
   ]
  },
  {
   "cell_type": "code",
   "execution_count": null,
   "id": "0d7c2e3a-0953-4cfe-9287-6812bf43b6b6",
   "metadata": {},
   "outputs": [],
   "source": [
    "# second cluster step\n",
    "tree.find_points_in_polygons(tree.tree_df)\n",
    "tree.kmean_cluster(tree.xy_grouped_points, round_val=2)\n",
    "tree.convex_hullify(tree.kmean_grouped_points, kmean_pols=True)\n",
    "# df_to_pg(tree.tree_df, schema='bomen', table_name='km_bomen')"
   ]
  },
  {
   "cell_type": "code",
   "execution_count": null,
   "id": "22912090-d2af-4e69-b9c7-1f380e6274b5",
   "metadata": {},
   "outputs": [],
   "source": [
    "tree.tree_df.plot(column='xy_clusterID', cmap='tab20')"
   ]
  },
  {
   "cell_type": "code",
   "execution_count": null,
   "id": "d119f37b-70ce-4291-ac34-d72817052a32",
   "metadata": {},
   "outputs": [],
   "source": [
    "data = tree.kmean_grouped_points.to_records()"
   ]
  },
  {
   "cell_type": "code",
   "execution_count": null,
   "id": "89f16464-c572-4f35-a975-d4faa8f4ee9e",
   "metadata": {},
   "outputs": [],
   "source": [
    "header = laspy.LasHeader(point_format=3, version=\"1.2\")\n",
    "header.offsets = las.header.offsets\n",
    "header.scales = las.header.scales\n",
    "\n",
    "new_las = laspy.LasData(header)\n",
    "\n",
    "new_las.x = data['X']\n",
    "new_las.y = data['Y']\n",
    "new_las.z = data['Z']\n",
    "new_las.classification = data['Classification']\n",
    "# new_las.red = data['Red']\n",
    "# new_las.green = data['Green']\n",
    "# new_las.blue = data['Blue']"
   ]
  },
  {
   "cell_type": "code",
   "execution_count": null,
   "id": "5a5adf79-acfd-4b4a-a0cd-1cd60c0d4f7e",
   "metadata": {},
   "outputs": [],
   "source": [
    "new_las.write(f'trees_{tilecode}.laz')"
   ]
  },
  {
   "cell_type": "code",
   "execution_count": null,
   "id": "61390e63-3137-4a82-b133-154ecaf3d8ab",
   "metadata": {},
   "outputs": [],
   "source": []
  }
 ],
 "metadata": {
  "kernelspec": {
   "display_name": "Python 3 (ipykernel)",
   "language": "python",
   "name": "python3"
  },
  "language_info": {
   "codemirror_mode": {
    "name": "ipython",
    "version": 3
   },
   "file_extension": ".py",
   "mimetype": "text/x-python",
   "name": "python",
   "nbconvert_exporter": "python",
   "pygments_lexer": "ipython3",
   "version": "3.9.12"
  }
 },
 "nbformat": 4,
 "nbformat_minor": 5
}
