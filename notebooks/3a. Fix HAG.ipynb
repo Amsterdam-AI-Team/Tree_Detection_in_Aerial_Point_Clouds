{
 "cells": [
  {
   "cell_type": "markdown",
   "id": "0fbfa1a7-081c-4f4e-9ee8-7026b24a0a82",
   "metadata": {},
   "source": [
    "# Fix HAG values for trees\n",
    "\n",
    "The height above ground values are unknown when a tree is partially above water. To \"standardize\" the HAG values per tree, we correct them based on the average HAG for each tree cluster. If a cluster has no valid HAG values, the NAP (z-coordinate) value is used instead."
   ]
  },
  {
   "cell_type": "code",
   "execution_count": null,
   "id": "f86d520a-167d-421b-ae05-dd337c50ff79",
   "metadata": {},
   "outputs": [],
   "source": [
    "import set_path\n",
    "\n",
    "import numpy as np\n",
    "import laspy\n",
    "import pathlib\n",
    "\n",
    "from tqdm.notebook import tqdm\n",
    "\n",
    "from upcp.region_growing.label_connected_comp import LabelConnectedComp\n",
    "\n",
    "import gvl.helper_functions as helpers"
   ]
  },
  {
   "cell_type": "markdown",
   "id": "515cedf9-7c3c-4c52-a9d6-f9310a00cbe1",
   "metadata": {},
   "source": [
    "## Settings"
   ]
  },
  {
   "cell_type": "code",
   "execution_count": null,
   "id": "2f9d4043-204c-436a-9c6d-b9b18703c82e",
   "metadata": {},
   "outputs": [],
   "source": [
    "BASE_FOLDER = pathlib.Path('../datasets')\n",
    "\n",
    "input_dir = BASE_FOLDER / 'AHN4' / 'AMS_subtiles_1000_pred'\n",
    "overwrite_input = True\n",
    "\n",
    "tree_filter = {'grid_size': 0.6,\n",
    "               'min_component_size': 50}\n",
    "\n",
    "# Our classification\n",
    "UNKNOWN = 0\n",
    "TREE = 1\n",
    "NOISE = 2\n",
    "OTHER = 0"
   ]
  },
  {
   "cell_type": "code",
   "execution_count": null,
   "id": "09e371e2-be28-4134-8ce5-f258c77324d2",
   "metadata": {},
   "outputs": [],
   "source": [
    "# Create output folder\n",
    "if not overwrite_input:\n",
    "    if 'output_dir' in locals():\n",
    "        pathlib.Path(output_dir).mkdir(parents=True, exist_ok=True)\n",
    "    else:\n",
    "        print(\"Please define 'output_dir' and run again.\")"
   ]
  },
  {
   "cell_type": "markdown",
   "id": "014d410b-ccd6-40bd-b64d-3bc8f740ee3d",
   "metadata": {},
   "source": [
    "## Main loop"
   ]
  },
  {
   "cell_type": "code",
   "execution_count": null,
   "id": "7cc77834-65d2-4a77-8a63-032521a863a9",
   "metadata": {},
   "outputs": [],
   "source": [
    "input_files = list(pathlib.Path(input_dir).glob('merged*.laz'))"
   ]
  },
  {
   "cell_type": "code",
   "execution_count": null,
   "id": "da987a42-57bd-4037-a212-75cffad5748b",
   "metadata": {},
   "outputs": [],
   "source": [
    "pbar = tqdm(input_files, unit='file', smoothing=0)\n",
    "\n",
    "for file in pbar:\n",
    "    tilecode = helpers.get_tilecode_from_filename(file.name)\n",
    "    pbar.set_postfix_str(tilecode)\n",
    "    \n",
    "    # Load LAS data\n",
    "    las = laspy.read(file)\n",
    "    points_xyz = np.vstack((las.x, las.y, las.z)).T\n",
    "    hag = las.hag\n",
    "    new_hag = np.copy(hag)\n",
    "    \n",
    "    mask_ids = np.where(las.label == TREE)[0]\n",
    "    \n",
    "    # Extract \"tree\" clusters\n",
    "    lcc = LabelConnectedComp(grid_size=tree_filter['grid_size'],\n",
    "                             min_component_size=tree_filter['min_component_size'])\n",
    "    point_components = lcc.get_components(points_xyz[mask_ids])\n",
    "\n",
    "    cc_labels = np.unique(point_components)\n",
    "    cc_labels = set(cc_labels).difference((-1,))\n",
    "    \n",
    "    # Iterate over the clusters\n",
    "    for cc in tqdm(cc_labels, smoothing=0, leave=False):\n",
    "        # select points that belong to the cluster\n",
    "        cc_mask = (point_components == cc)\n",
    "        cc_z = points_xyz[mask_ids[cc_mask], 2]\n",
    "        cc_hag = hag[mask_ids[cc_mask]]\n",
    "        \n",
    "        if np.isnan(cc_hag).all():\n",
    "            cc_offset = 0.\n",
    "        else:\n",
    "            cc_offset = np.nanmean(cc_hag) - np.mean(cc_z)\n",
    "        new_hag[mask_ids[cc_mask]] = cc_z + cc_offset\n",
    "    \n",
    "    las.hag = new_hag\n",
    "    if overwrite_input:\n",
    "        las.write(file)\n",
    "    else:\n",
    "        if 'output_dir' in locals():\n",
    "            las.write(pathlib.Path(output_dir) / file.name)\n",
    "        else:\n",
    "            print(\"Please define 'output_dir'.\")\n",
    "            break"
   ]
  },
  {
   "cell_type": "code",
   "execution_count": null,
   "id": "f8ee1779-6b1f-44ba-9a03-9f3d75b52991",
   "metadata": {},
   "outputs": [],
   "source": []
  }
 ],
 "metadata": {
  "kernelspec": {
   "display_name": "Python 3 (ipykernel)",
   "language": "python",
   "name": "python3"
  },
  "language_info": {
   "codemirror_mode": {
    "name": "ipython",
    "version": 3
   },
   "file_extension": ".py",
   "mimetype": "text/x-python",
   "name": "python",
   "nbconvert_exporter": "python",
   "pygments_lexer": "ipython3",
   "version": "3.9.13"
  }
 },
 "nbformat": 4,
 "nbformat_minor": 5
}
