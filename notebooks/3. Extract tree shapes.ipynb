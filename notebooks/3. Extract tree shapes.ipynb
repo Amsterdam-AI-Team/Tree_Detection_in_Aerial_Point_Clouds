{
 "cells": [
  {
   "attachments": {},
   "cell_type": "markdown",
   "id": "5d280764-310b-41e9-af19-a011e1062d23",
   "metadata": {},
   "source": [
    "# Extract tree shapes\n",
    "\n",
    "The input for this notebok is the pre-processed and filtered cloud that results from notebook `1. Tree filter.ipynb`. From this data we extract clusters of points that form potential trees and tree-clusters. The location, surface area and volume of the resulting clusters are extracted."
   ]
  },
  {
   "cell_type": "code",
   "execution_count": null,
   "id": "33b36af9-fe39-4cd8-a1ec-18c0d8d048af",
   "metadata": {},
   "outputs": [],
   "source": [
    "import set_path\n",
    "\n",
    "import numpy as np\n",
    "import laspy\n",
    "import pathlib\n",
    "import pickle\n",
    "import os\n",
    "import geopandas as gpd\n",
    "import shapely.geometry as sg\n",
    "from scipy.spatial import ConvexHull\n",
    "from tqdm.notebook import tqdm\n",
    "\n",
    "from upcp.region_growing.label_connected_comp import LabelConnectedComp\n",
    "from upcp.utils import clip_utils\n",
    "\n",
    "import gvl.alpha_shape_utils as as_utils\n",
    "import gvl.helper_functions as utils"
   ]
  },
  {
   "cell_type": "code",
   "execution_count": null,
   "id": "996dec85-0316-414d-ad7f-09ea3614b497",
   "metadata": {},
   "outputs": [],
   "source": [
    "import warnings  # temporary, to suppress runtime warnings from alpha_shape\n",
    "\n",
    "warnings.filterwarnings(\"ignore\")"
   ]
  },
  {
   "attachments": {},
   "cell_type": "markdown",
   "id": "aba05286-f0aa-4ed4-a3c6-b805e669230c",
   "metadata": {},
   "source": [
    "## Settings"
   ]
  },
  {
   "cell_type": "code",
   "execution_count": null,
   "id": "b7ba0bcc-7351-4d62-b672-079b468d82fb",
   "metadata": {},
   "outputs": [],
   "source": [
    "DATA_FOLDER = pathlib.Path(\"../data\")\n",
    "\n",
    "input_dir = DATA_FOLDER / \"ahn4_trees\"\n",
    "output_dir = DATA_FOLDER / \"shapes\"\n",
    "N = 4  # Number of digits in tilecode format\n",
    "TILE_WIDTH = 50  # Tile width in meters\n",
    "\n",
    "tmp_file = output_dir / \"data_tmp.pickle\"\n",
    "resume = True\n",
    "\n",
    "output_csv = output_dir / \"trees.csv\"\n",
    "output_shp = output_dir / \"trees.shp\"\n",
    "\n",
    "# Settings for connected component clustering.\n",
    "tree_lcc = {\"grid_size\": 0.5, \"min_component_size\": 50}\n",
    "\n",
    "# Optional: compute concave (alpha shape) hull. This is slower, but more precice.\n",
    "use_concave = True\n",
    "# Minimum area for which to compute concave hull. For smaller areas the convex hull will be used.\n",
    "concave_min_area = 10.0\n",
    "# Alpha determines the \"concaveness\" of the resulting shape, with 0 being convex.\n",
    "alpha = 1.75\n",
    "\n",
    "# Downsampling settings, reduces complexity of concave hull operations.\n",
    "downsample_n = (\n",
    "    10  # Number of points in a cluster after which downsampling will be applied.\n",
    ")\n",
    "downsample_voxelsize = 0.25\n",
    "\n",
    "# Our classification\n",
    "UNKNOWN = 0\n",
    "TREE = 1\n",
    "NOISE = 2\n",
    "OTHER = 0"
   ]
  },
  {
   "cell_type": "code",
   "execution_count": null,
   "id": "62d534e8-f8d7-40ea-9784-b9ffefb0c08d",
   "metadata": {},
   "outputs": [],
   "source": [
    "# Create output folder\n",
    "output_dir.mkdir(parents=True, exist_ok=True)"
   ]
  },
  {
   "attachments": {},
   "cell_type": "markdown",
   "id": "b6c79578-74ab-4a52-9ee5-ca1468a1b949",
   "metadata": {},
   "source": [
    "## Main loop"
   ]
  },
  {
   "cell_type": "code",
   "execution_count": null,
   "id": "7692ffdb-509b-4da4-9173-964463d76153",
   "metadata": {},
   "outputs": [],
   "source": [
    "input_files = list(input_dir.glob(\"trees*.laz\"))"
   ]
  },
  {
   "cell_type": "code",
   "execution_count": null,
   "id": "26cf22ce-ecd6-4cc1-b71a-a7ecbf42a5bc",
   "metadata": {},
   "outputs": [],
   "source": [
    "# Check if tmp_file exists.\n",
    "if resume and os.path.exists(tmp_file):\n",
    "    with open(tmp_file, \"rb\") as f:\n",
    "        data = pickle.load(f)\n",
    "        existing_codes = set(data[\"tilecode\"])\n",
    "        input_files = [\n",
    "            file\n",
    "            for file in input_files\n",
    "            if utils.get_tilecode_from_filename(file.name, n_digits=N)\n",
    "            not in existing_codes\n",
    "        ]\n",
    "else:\n",
    "    data = {\n",
    "        \"tilecode\": [],\n",
    "        \"n_points\": [],\n",
    "        \"convex_hull\": [],\n",
    "        \"concave_hull\": [],\n",
    "        \"location\": [],\n",
    "    }"
   ]
  },
  {
   "cell_type": "code",
   "execution_count": null,
   "id": "b0feb4ab-699b-47b8-9b70-b1187a054446",
   "metadata": {},
   "outputs": [],
   "source": [
    "pbar = tqdm(input_files, unit=\"file\", smoothing=0)\n",
    "\n",
    "for file in pbar:\n",
    "    tilecode = utils.get_tilecode_from_filename(file.name, n_digits=N)\n",
    "    pbar.set_postfix_str(tilecode)\n",
    "\n",
    "    # Load LAS data\n",
    "    las = laspy.read(file)\n",
    "    mask = las.label == TREE\n",
    "    if np.count_nonzero(mask) == 0:\n",
    "        continue\n",
    "    points_xyz = np.vstack((las.x[mask], las.y[mask], las.z[mask])).T\n",
    "\n",
    "    # Extract \"tree\" clusters\n",
    "    lcc = LabelConnectedComp(\n",
    "        grid_size=tree_lcc[\"grid_size\"],\n",
    "        min_component_size=tree_lcc[\"min_component_size\"],\n",
    "    )\n",
    "    point_components = lcc.get_components(points_xyz)\n",
    "\n",
    "    cc_labels = np.unique(point_components)\n",
    "    cc_labels = set(cc_labels).difference((-1,))\n",
    "\n",
    "    # Iterate over the clusters\n",
    "    for cc in tqdm(cc_labels, smoothing=0, leave=False):\n",
    "        # select points that belong to the cluster\n",
    "        cc_mask = point_components == cc\n",
    "        cc_points = points_xyz[cc_mask, :2]\n",
    "\n",
    "        if np.count_nonzero(cc_mask) > downsample_n:\n",
    "            cc_points = utils.voxel_downsample(cc_points, downsample_voxelsize)\n",
    "\n",
    "        convex_poly = sg.Polygon(\n",
    "            cc_points[ConvexHull(cc_points, qhull_options=\"QJ\").vertices]\n",
    "        )\n",
    "        if (not use_concave) or (convex_poly.area < concave_min_area):\n",
    "            concaves = [convex_poly]\n",
    "        else:\n",
    "            edges = as_utils.alpha_shape(cc_points, alpha=alpha, only_outer=True)\n",
    "            concaves = as_utils.generate_poly_from_edges(edges, cc_points)\n",
    "\n",
    "        for hull in concaves:\n",
    "            hull_mask = clip_utils.poly_clip(cc_points, hull)\n",
    "            data[\"tilecode\"].append(tilecode)\n",
    "            data[\"n_points\"].append(np.count_nonzero(hull_mask))\n",
    "            data[\"convex_hull\"].append(convex_poly)\n",
    "            data[\"concave_hull\"].append(hull)\n",
    "            data[\"location\"].append(sg.Point(np.mean(cc_points[hull_mask], axis=0)))\n",
    "\n",
    "    with open(tmp_file, \"wb\") as handle:\n",
    "        pickle.dump(data, handle, protocol=pickle.HIGHEST_PROTOCOL)"
   ]
  },
  {
   "attachments": {},
   "cell_type": "markdown",
   "id": "4de813bf-0f12-4bd5-ac16-e84ce54927ac",
   "metadata": {},
   "source": [
    "## Save results as CSV"
   ]
  },
  {
   "cell_type": "code",
   "execution_count": null,
   "id": "12116e38-dee2-4d06-8387-c3699baf9e53",
   "metadata": {},
   "outputs": [],
   "source": [
    "if use_concave:\n",
    "    tree_gdf = gpd.GeoDataFrame(data=data, geometry=\"concave_hull\", crs=\"epsg:28992\")\n",
    "else:\n",
    "    del data[\"concave_hull\"]\n",
    "    tree_gdf = gpd.GeoDataFrame(data=data, geometry=\"convex_hull\", crs=\"epsg:28992\")"
   ]
  },
  {
   "cell_type": "code",
   "execution_count": null,
   "id": "ba19934b-3abe-471e-89b6-f55ae8d5fd57",
   "metadata": {},
   "outputs": [],
   "source": [
    "tree_gdf.to_csv(output_csv, index=False)"
   ]
  },
  {
   "cell_type": "code",
   "execution_count": null,
   "id": "6d4333e7-144d-4767-a97f-876aaa30f5d6",
   "metadata": {},
   "outputs": [],
   "source": [
    "# Optional: save as .shp file with only convex / concave hulls.\n",
    "if use_concave:\n",
    "    tree_gdf_2 = tree_gdf[[\"tilecode\", \"n_points\", \"concave_hull\"]]\n",
    "else:\n",
    "    tree_gdf_2 = tree_gdf[[\"tilecode\", \"n_points\", \"convex_hull\"]]\n",
    "tree_gdf_2.to_file(output_shp)"
   ]
  },
  {
   "attachments": {},
   "cell_type": "markdown",
   "id": "bafcbb3f-a144-4b36-a454-257c35b268c5",
   "metadata": {},
   "source": [
    "## Plotting (optional)"
   ]
  },
  {
   "cell_type": "code",
   "execution_count": null,
   "id": "283dfb59-34f5-42ab-89eb-0fa165a5bde9",
   "metadata": {},
   "outputs": [],
   "source": [
    "# To load, use this snippet\n",
    "import geopandas as gpd\n",
    "from shapely import wkt\n",
    "\n",
    "tree_gdf = gpd.read_file(output_csv, crs=\"epsg:28992\")\n",
    "tree_gdf[\"location\"] = tree_gdf[\"location\"].apply(wkt.loads)\n",
    "tree_gdf[\"convex_hull\"] = tree_gdf[\"convex_hull\"].apply(wkt.loads)\n",
    "if use_concave:\n",
    "    tree_gdf[\"concave_hull\"] = tree_gdf[\"concave_hull\"].apply(wkt.loads)\n",
    "    tree_gdf.set_geometry(\"concave_hull\", inplace=True)\n",
    "else:\n",
    "    tree_gdf.set_geometry(\"convex_hull\", inplace=True)\n",
    "tree_gdf.drop(\"geometry\", axis=1, inplace=True)"
   ]
  },
  {
   "cell_type": "code",
   "execution_count": null,
   "id": "2cb4ef2c-8a0e-49fb-8fb7-50badaa4a594",
   "metadata": {},
   "outputs": [],
   "source": [
    "%matplotlib widget\n",
    "import matplotlib.pyplot as plt\n",
    "\n",
    "fig, ax = plt.subplots(1, figsize=(10, 7))\n",
    "\n",
    "tree_gdf.plot(ax=ax, color=\"green\", alpha=0.8)\n",
    "tree_gdf.set_geometry(\"location\").plot(\n",
    "    ax=ax, color=\"black\", alpha=0.8, marker=\".\", markersize=5\n",
    ")\n",
    "\n",
    "plt.show()"
   ]
  },
  {
   "cell_type": "code",
   "execution_count": null,
   "id": "97824de3",
   "metadata": {},
   "outputs": [],
   "source": []
  }
 ],
 "metadata": {
  "kernelspec": {
   "display_name": "Python 3 (ipykernel)",
   "language": "python",
   "name": "python3"
  },
  "language_info": {
   "codemirror_mode": {
    "name": "ipython",
    "version": 3
   },
   "file_extension": ".py",
   "mimetype": "text/x-python",
   "name": "python",
   "nbconvert_exporter": "python",
   "pygments_lexer": "ipython3",
   "version": "3.9.16"
  }
 },
 "nbformat": 4,
 "nbformat_minor": 5
}
