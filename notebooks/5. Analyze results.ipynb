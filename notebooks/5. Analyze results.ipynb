{
 "cells": [
  {
   "cell_type": "markdown",
   "id": "d855b290",
   "metadata": {},
   "source": [
    "## Analyze results\n",
    "This notebook takes the outcomes of `1. Tree filter.ipynb`, `3. Extract tree shapes.ipynb` and `4. Extract tree trunks.ipynb`. It compares these results against ground thruth data and presents some statistics and visualizations. "
   ]
  },
  {
   "cell_type": "code",
   "execution_count": null,
   "id": "0bb9e3c4",
   "metadata": {},
   "outputs": [],
   "source": [
    "import numpy as np\n",
    "import pandas as pd\n",
    "import geopandas as gpd\n",
    "\n",
    "import fiona\n",
    "from shapely import wkt\n",
    "\n",
    "import matplotlib.pyplot as plt\n",
    "import matplotlib.patches as mpatches\n",
    "import contextily as cx"
   ]
  },
  {
   "cell_type": "code",
   "execution_count": null,
   "id": "bb058c79",
   "metadata": {},
   "outputs": [],
   "source": [
    "DATA_DIR = '/home/aiteam/projects/BOA/Tree_Detection_in_Aerial_Point_Clouds/datasets/'\n",
    "\n",
    "# Inputs paths\n",
    "beheer_file = DATA_DIR + 'measurements/Beheerkaart_Eigendomsrecht.gpkg'\n",
    "measure_file = DATA_DIR + 'measurements/Ground_Truth_Resultaten_Opnames_V2.gpkg'\n",
    "area_layer = 'Daadwerkelijke opnamegrenzen'\n",
    "measure_layer = 'Boompunten'\n",
    "\n",
    "ahn_results_file = DATA_DIR + 'HGB/Trunks/Output_centroids_only_127_481_127_482.shp' \n",
    "#ahn_results_file = DATA_DIR + 'HGB/Trunks/Output_centroids_only_124_486_125_486.shp' \n",
    "\n",
    "ahn_results_area_file = DATA_DIR + 'HGB/Shapes/trees_alpha_1.75_20.csv' \n",
    "\n",
    "# Output paths\n",
    "output_image = DATA_DIR + 'output_images/final_results_vooropname_ahn.png'\n",
    "output_image_analysis = DATA_DIR + 'output_images/final_results_vooropname_ahn_analysis.png'"
   ]
  },
  {
   "cell_type": "code",
   "execution_count": null,
   "id": "1e503f6a",
   "metadata": {},
   "outputs": [],
   "source": [
    "CRS = 'epsg:28992'\n",
    "\n",
    "# Maximum distance to be identified as the same tree\n",
    "max_dist = 1.3"
   ]
  },
  {
   "cell_type": "markdown",
   "id": "1a104fe5",
   "metadata": {},
   "source": [
    "### Import data"
   ]
  },
  {
   "cell_type": "markdown",
   "id": "bd6531f9",
   "metadata": {},
   "source": [
    "#### Areas"
   ]
  },
  {
   "cell_type": "code",
   "execution_count": null,
   "id": "1397e8b2",
   "metadata": {},
   "outputs": [],
   "source": [
    "# Measurement area\n",
    "df_area = gpd.read_file(measure_file, layer=area_layer) "
   ]
  },
  {
   "cell_type": "code",
   "execution_count": null,
   "id": "aa584e59",
   "metadata": {},
   "outputs": [],
   "source": [
    "# TODO remove\n",
    "df_area = df_area[df_area['GebiedNummer'].isin(['1', '2', '3'])]\n",
    "#df_area = df_area[df_area['GebiedNummer'].isin(['A', 'B', 'C'])]"
   ]
  },
  {
   "cell_type": "code",
   "execution_count": null,
   "id": "b5d5bf94",
   "metadata": {},
   "outputs": [],
   "source": [
    "# Beheer area\n",
    "df_beheer = gpd.read_file(beheer_file)"
   ]
  },
  {
   "cell_type": "markdown",
   "id": "31d8adb2",
   "metadata": {},
   "source": [
    "#### Measurements"
   ]
  },
  {
   "cell_type": "code",
   "execution_count": null,
   "id": "4d829a80",
   "metadata": {},
   "outputs": [],
   "source": [
    "df = gpd.read_file(measure_file, layer=measure_layer) \n",
    "gdf = gpd.GeoDataFrame(df, geometry=gpd.points_from_xy(df['X_GNSS'], df['Y_GNSS']), crs=CRS)"
   ]
  },
  {
   "cell_type": "markdown",
   "id": "f7b458f1",
   "metadata": {},
   "source": [
    "#### AHN results"
   ]
  },
  {
   "cell_type": "markdown",
   "id": "dea2beab",
   "metadata": {},
   "source": [
    "##### trunks"
   ]
  },
  {
   "cell_type": "code",
   "execution_count": null,
   "id": "5fdc5bda",
   "metadata": {},
   "outputs": [],
   "source": [
    "df_ahn = gpd.read_file(ahn_results_file)\n",
    "df_ahn = df_ahn.set_crs(CRS, allow_override=True)"
   ]
  },
  {
   "cell_type": "markdown",
   "id": "0eedb882",
   "metadata": {},
   "source": [
    "##### shapes"
   ]
  },
  {
   "cell_type": "code",
   "execution_count": null,
   "id": "3a4872ed",
   "metadata": {},
   "outputs": [],
   "source": [
    "use_concave = True\n",
    "df_ahn_areas = gpd.read_file(ahn_results_area_file, crs=CRS)\n",
    "df_ahn_areas['location'] = df_ahn_areas['location'].apply(wkt.loads)\n",
    "df_ahn_areas['convex_hull'] = df_ahn_areas['convex_hull'].apply(wkt.loads)\n",
    "if use_concave:\n",
    "    df_ahn_areas['concave_hull'] = df_ahn_areas['concave_hull'].apply(wkt.loads)\n",
    "    df_ahn_areas.set_geometry('concave_hull', inplace=True)\n",
    "else:\n",
    "    df_ahn_areas.set_geometry('convex_hull', inplace=True)\n",
    "df_ahn_areas.drop('geometry', axis=1, inplace=True)\n",
    "df_ahn_areas = df_ahn_areas.set_crs(CRS)\n",
    "df_ahn_areas.drop_duplicates(['convex_hull', 'concave_hull'], inplace=True)"
   ]
  },
  {
   "cell_type": "markdown",
   "id": "4f8f8c37",
   "metadata": {},
   "source": [
    "### Pre-process data"
   ]
  },
  {
   "cell_type": "code",
   "execution_count": null,
   "id": "7821d59a",
   "metadata": {},
   "outputs": [],
   "source": [
    "# Get area we are going to work with \n",
    "df_beheer_sel = gpd.clip(df_beheer, df_area)\n",
    "\n",
    "# Select trees that are within the 'beheergrenzen' in the 'vooropname gebied'\n",
    "gdf_sel = gdf.sjoin(df_beheer_sel[['geometry']], predicate='within').drop(['index_right'], axis=1)\n",
    "df_ahn_sel = df_ahn.sjoin(df_beheer_sel[['geometry']], predicate='within').drop(['index_right'], axis=1)\n",
    "\n",
    "df_ahn_areas_sel = gpd.clip(df_ahn_areas, df_beheer_sel)\n",
    "df_ahn_areas_sel_dis = gpd.GeoDataFrame(geometry=gpd.GeoSeries(df_ahn_areas_sel.unary_union.geoms))\n",
    "\n",
    "del df_beheer"
   ]
  },
  {
   "cell_type": "markdown",
   "id": "b8120be0",
   "metadata": {},
   "source": [
    "### Get results"
   ]
  },
  {
   "cell_type": "markdown",
   "id": "9697d6eb",
   "metadata": {},
   "source": [
    "#### Find matches"
   ]
  },
  {
   "cell_type": "code",
   "execution_count": null,
   "id": "1697fab4",
   "metadata": {},
   "outputs": [],
   "source": [
    "# Get nearest measured tree to predicted trees\n",
    "df_ahn_sjoin = df_ahn_sel.sjoin_nearest(gdf_sel[['objectid', 'geometry']], distance_col='afstand', how='left')"
   ]
  },
  {
   "cell_type": "code",
   "execution_count": null,
   "id": "a6139175",
   "metadata": {},
   "outputs": [],
   "source": [
    "# Only keep cases where predicted trees are also closest to measured trees \n",
    "df_ahn_sjoin.sort_values(['objectid', 'afstand'], inplace=True)\n",
    "df_ahn_sjoin.drop_duplicates(subset=['objectid'], keep='first', inplace=True)"
   ]
  },
  {
   "cell_type": "code",
   "execution_count": null,
   "id": "6854696d",
   "metadata": {},
   "outputs": [],
   "source": [
    "# Drop cases where the distance between measured and predicated tree is too large\n",
    "df_ahn_sjoin = df_ahn_sjoin[df_ahn_sjoin['afstand'] < max_dist]"
   ]
  },
  {
   "cell_type": "markdown",
   "id": "baae890f",
   "metadata": {},
   "source": [
    "#### Calculate overall statistics"
   ]
  },
  {
   "cell_type": "code",
   "execution_count": null,
   "id": "64e64c82",
   "metadata": {},
   "outputs": [],
   "source": [
    "true_positives = gdf_sel[gdf_sel['objectid'].isin(df_ahn_sjoin['objectid'])].reset_index(drop=True)\n",
    "false_negatives = gdf_sel[~gdf_sel['objectid'].isin(true_positives['objectid'])].reset_index(drop=True)\n",
    "false_positives = df_ahn_sel[~df_ahn_sel['label'].isin(df_ahn_sjoin['label'])].reset_index(drop=True)"
   ]
  },
  {
   "cell_type": "code",
   "execution_count": null,
   "id": "39e894f5",
   "metadata": {},
   "outputs": [],
   "source": [
    "print('measured: ' + str(len(gdf_sel)))\n",
    "print('predicted: ' + str(len(df_ahn_sel)))\n",
    "print('TP: ' + str(len(true_positives)))\n",
    "print('FN: ' + str(len(false_negatives)))\n",
    "print('FP: ' + str(len(false_positives)))\n",
    "print('precision: ' + str(round(len(true_positives) / (len(true_positives) + len(false_positives)), 2)))\n",
    "print('recall: ' + str(round(len(true_positives) / (len(true_positives) + len(false_negatives)), 2)))"
   ]
  },
  {
   "cell_type": "markdown",
   "id": "4ead277f",
   "metadata": {},
   "source": [
    "#### Calculate statistics per cluster"
   ]
  },
  {
   "cell_type": "code",
   "execution_count": null,
   "id": "dc82ff02",
   "metadata": {},
   "outputs": [],
   "source": [
    "# Calculate measurement count per cluster\n",
    "cw_count = len(gdf_sel[gdf_sel['Type_Cluster_Technisch'] == 'Cluster - Weinig'])\n",
    "cv_count = len(gdf_sel[gdf_sel['Type_Cluster_Technisch'] == 'Cluster - Veel'])\n",
    "s_count = len(gdf_sel[gdf_sel['Type_Cluster_Technisch'] == 'Solitair'])\n",
    "weide_count = len(gdf_sel[gdf_sel['Type_Cluster_Behoefte'] == 'Weide'])\n",
    "wijk_count = len(gdf_sel[gdf_sel['Type_Cluster_Behoefte'] == 'Wijk'])\n",
    "bos_count = len(gdf_sel[gdf_sel['Type_Cluster_Behoefte'] == 'Bosplantsoen'])\n",
    "\n",
    "# Calculate true positives per cluster\n",
    "tp_cw = true_positives[true_positives['Type_Cluster_Technisch'] == 'Cluster - Weinig']\n",
    "tp_cv = true_positives[true_positives['Type_Cluster_Technisch'] == 'Cluster - Veel']\n",
    "tp_s = true_positives[true_positives['Type_Cluster_Technisch'] == 'Solitair']\n",
    "tp_weide = true_positives[true_positives['Type_Cluster_Behoefte'] == 'Weide']\n",
    "tp_wijk = true_positives[true_positives['Type_Cluster_Behoefte'] == 'Wijk']\n",
    "tp_bos = true_positives[true_positives['Type_Cluster_Behoefte'] == 'Bosplantsoen']\n",
    "\n",
    "# Calculate false negatives per cluster\n",
    "fn_cw = false_negatives[false_negatives['Type_Cluster_Technisch'] == 'Cluster - Weinig']\n",
    "fn_cv = false_negatives[false_negatives['Type_Cluster_Technisch'] == 'Cluster - Veel']\n",
    "fn_s = false_negatives[false_negatives['Type_Cluster_Technisch'] == 'Solitair']\n",
    "fn_weide = false_negatives[false_negatives['Type_Cluster_Behoefte'] == 'Weide']\n",
    "fn_wijk = false_negatives[false_negatives['Type_Cluster_Behoefte'] == 'Wijk']\n",
    "fn_bos = false_negatives[false_negatives['Type_Cluster_Behoefte'] == 'Bosplantsoen']"
   ]
  },
  {
   "cell_type": "code",
   "execution_count": null,
   "id": "f0157a3d",
   "metadata": {},
   "outputs": [],
   "source": [
    "print('TP cluster veel: ' + str(len(tp_cv)) + ' (/' + str(cv_count) +')')\n",
    "print('recall cluster veel: ' + str(round(len(tp_cv) / (len(tp_cv) + len(fn_cv)), 2)))\n",
    "print('TP cluster weinig: ' + str(len(tp_cw)) + ' (/' + str(cw_count) +')')\n",
    "print('recall cluster weinig: ' + str(round(len(tp_cw) / (len(tp_cw) + len(fn_cw)), 2)))\n",
    "print('TP solitair: ' + str(len(tp_s)) + ' (/' + str(s_count) +')')\n",
    "print('recall solitair: ' + str(round(len(tp_s) / (len(tp_s) + len(fn_s)), 2)))"
   ]
  },
  {
   "cell_type": "code",
   "execution_count": null,
   "id": "f1ee7d07",
   "metadata": {},
   "outputs": [],
   "source": [
    "print('TP bosplantsoen: ' + str(len(tp_bos)) + ' (/' + str(bos_count) +')')\n",
    "print('recall bosplantsoen: ' + str(round(len(tp_bos) / (len(tp_bos) + len(fn_bos)), 2)))\n",
    "print('TP weide: ' + str(len(tp_weide)) + ' (/' + str(weide_count) +')')\n",
    "print('recall weide: ' + str(round(len(tp_weide) / (len(tp_weide) + len(fn_weide)), 2)))\n",
    "print('TP wijk: ' + str(len(tp_wijk)) + ' (/' + str(wijk_count) +')')\n",
    "print('recall wijk: ' + str(round(len(tp_wijk) / (len(tp_wijk) + len(fn_wijk)), 2)))"
   ]
  },
  {
   "cell_type": "markdown",
   "id": "a5ceebbc",
   "metadata": {},
   "source": [
    "### Plot results"
   ]
  },
  {
   "cell_type": "code",
   "execution_count": null,
   "id": "f7044159",
   "metadata": {
    "scrolled": true
   },
   "outputs": [],
   "source": [
    "fig, ax = plt.subplots(figsize=(12,12), frameon=False, dpi=500)\n",
    "\n",
    "# Area\n",
    "df_area.boundary.plot(ax=ax, color='blue')\n",
    "df_beheer_sel.boundary.plot(ax=ax, color='blue', alpha=0.6)\n",
    "\n",
    "# AHN results - areas\n",
    "df_ahn_areas_sel_dis.plot(ax=ax, color='purple', alpha=0.3)\n",
    "\n",
    "# Measurements\n",
    "gdf_sel.plot(ax=ax, color='yellow', alpha=0.2, markersize=16)\n",
    "\n",
    "# AHN results - trunks\n",
    "df_ahn_sel.plot(ax=ax, color='purple', alpha=0.7, markersize=6)\n",
    "\n",
    "# Background\n",
    "cx.add_basemap(ax=ax, source=cx.providers.Esri.WorldImagery, crs=CRS)\n",
    "\n",
    "ax.axis('off')\n",
    "\n",
    "# Create legend\n",
    "ar = mpatches.Patch(facecolor='silver', edgecolor='blue', label='area')\n",
    "me = mpatches.Patch(color='yellow', alpha=0.5, label='measurements')\n",
    "pr1 = mpatches.Patch(color='purple', label='predictions (AHN) - trunks')\n",
    "pr2 = mpatches.Patch(color='purple', alpha=0.3, label='predictions (AHN) - trees')\n",
    "plt.legend(handles=[ar,me,pr1,pr2], loc='lower right')\n",
    "\n",
    "plt.savefig(output_image, bbox_inches='tight')\n",
    "plt.show()"
   ]
  },
  {
   "cell_type": "code",
   "execution_count": null,
   "id": "1b8e401c",
   "metadata": {},
   "outputs": [],
   "source": [
    "fig, ax = plt.subplots(figsize=(12,12), frameon=False, dpi=500)\n",
    "\n",
    "# Area\n",
    "df_area.boundary.plot(ax=ax, color='blue')\n",
    "df_beheer_sel.boundary.plot(ax=ax, color='blue', alpha=0.6)\n",
    "\n",
    "# AHN results - areas\n",
    "df_ahn_areas_sel_dis.plot(ax=ax, color='purple', alpha=0.3)\n",
    "\n",
    "# Measurements & predictions\n",
    "false_negatives.plot(ax=ax, color='red', alpha=0.6, markersize=26)\n",
    "false_positives.plot(ax=ax, color='black', alpha=0.6, markersize=26)\n",
    "true_positives.plot(ax=ax, color='green', alpha=0.8, markersize=26)\n",
    "\n",
    "# Background\n",
    "cx.add_basemap(ax=ax, source=cx.providers.Esri.WorldImagery, crs=CRS)\n",
    "\n",
    "ax.axis('off')\n",
    "\n",
    "# Create legend\n",
    "ar = mpatches.Patch(facecolor='silver', edgecolor='blue', label='area')\n",
    "tp = mpatches.Patch(color='green', label='true positive')\n",
    "fp = mpatches.Patch(color='black', alpha=0.6, label='false positive')\n",
    "fn = mpatches.Patch(color='red', alpha=0.6, label='false negative')\n",
    "pr = mpatches.Patch(color='purple', alpha=0.3, label='predictions (AHN) - trees')\n",
    "plt.legend(handles=[ar,tp,fp,fn,pr], loc='lower right')\n",
    "\n",
    "plt.savefig(output_image_analysis, bbox_inches='tight')\n",
    "plt.show()"
   ]
  },
  {
   "cell_type": "markdown",
   "id": "91a8fe9e",
   "metadata": {},
   "source": [
    "## Inspect individual trees"
   ]
  },
  {
   "cell_type": "code",
   "execution_count": null,
   "id": "0ee5946a",
   "metadata": {},
   "outputs": [],
   "source": [
    "import laspy as lp\n",
    "import shapely.geometry as sg\n",
    "import matplotlib.image as mpimg\n",
    "from scipy import ndimage\n",
    "import pathlib\n",
    "import open3d as o3d"
   ]
  },
  {
   "cell_type": "markdown",
   "id": "c1ed2595",
   "metadata": {},
   "source": [
    "### Load data"
   ]
  },
  {
   "cell_type": "code",
   "execution_count": null,
   "id": "d4727eb9",
   "metadata": {},
   "outputs": [],
   "source": [
    "#my_tile_1 = '127_481'\n",
    "#my_tile_2 = '127_482'\n",
    "my_tile_1 = '124_486'\n",
    "my_tile_2 = '125_486'\n",
    "\n",
    "# Input\n",
    "input_las_1 = DATA_DIR + 'HGB/AMS_subtiles_1000_reduced/trees_' + my_tile_1 + '.laz'\n",
    "input_las_2 = DATA_DIR + 'HGB/AMS_subtiles_1000_reduced/trees_' + my_tile_2 + '.laz'"
   ]
  },
  {
   "cell_type": "code",
   "execution_count": null,
   "id": "e3dd7879",
   "metadata": {},
   "outputs": [],
   "source": [
    "# Load the point cloud data\n",
    "las_file_1 = lp.read(input_las_1)\n",
    "las_file_2 = lp.read(input_las_2)"
   ]
  },
  {
   "cell_type": "markdown",
   "id": "c873094f",
   "metadata": {},
   "source": [
    "### Prepare data"
   ]
  },
  {
   "cell_type": "code",
   "execution_count": null,
   "id": "fc505e54",
   "metadata": {},
   "outputs": [],
   "source": [
    "# concatenate the file coordinates\n",
    "coord_1 = np.c_[las_file_1.x, las_file_1.y, las_file_1.hag]  \n",
    "coord_2 = np.c_[las_file_2.x, las_file_2.y, las_file_2.hag]\n",
    "coord_all = np.concatenate([coord_1, coord_2])\n",
    "\n",
    "# Take only 'tree' points\n",
    "las_file_1.points = las_file_1.points[las_file_1.label == 1]\n",
    "las_file_2.points = las_file_2.points[las_file_2.label == 1]\n",
    "\n",
    "# concatenate the file coordinates - with only 'tree' points\n",
    "coord_1 = np.c_[las_file_1.x, las_file_1.y, las_file_1.hag]\n",
    "coord_2 = np.c_[las_file_2.x, las_file_2.y, las_file_2.hag]\n",
    "coord = np.concatenate([coord_1, coord_2])\n",
    "\n",
    "del coord_1\n",
    "del coord_2"
   ]
  },
  {
   "cell_type": "code",
   "execution_count": null,
   "id": "763a2f1b",
   "metadata": {},
   "outputs": [],
   "source": [
    "# Downsample the data\n",
    "pcd = o3d.geometry.PointCloud()\n",
    "pcd.points = o3d.utility.Vector3dVector(coord)\n",
    "pcd_down = pcd.voxel_down_sample(voxel_size=0.5)  \n",
    "coord_red = np.asarray(pcd_down.points)\n",
    "\n",
    "del pcd\n",
    "del pcd_down"
   ]
  },
  {
   "cell_type": "code",
   "execution_count": null,
   "id": "9bacc0e5",
   "metadata": {},
   "outputs": [],
   "source": [
    "# Prepare dataframes for selecting points of the point cloud\n",
    "df_coord_all = pd.DataFrame(coord_all)\n",
    "gdf_coord_all = gpd.GeoDataFrame(df_coord_all, geometry=gpd.points_from_xy(df_coord_all[0], df_coord_all[1]), crs=CRS)\n",
    "del coord_all\n",
    "del df_coord_all"
   ]
  },
  {
   "cell_type": "code",
   "execution_count": null,
   "id": "5512450f",
   "metadata": {},
   "outputs": [],
   "source": [
    "df_coord = pd.DataFrame(coord)\n",
    "gdf_coord = gpd.GeoDataFrame(df_coord, geometry=gpd.points_from_xy(df_coord[0], df_coord[1]), crs=CRS)\n",
    "del coord\n",
    "del df_coord"
   ]
  },
  {
   "cell_type": "code",
   "execution_count": null,
   "id": "9865e823",
   "metadata": {},
   "outputs": [],
   "source": [
    "df_coord_red = pd.DataFrame(coord_red)\n",
    "gdf_coord_red = gpd.GeoDataFrame(df_coord_red, geometry=gpd.points_from_xy(df_coord_red[0], df_coord_red[1]), crs=CRS)\n",
    "del coord_red\n",
    "del df_coord_red"
   ]
  },
  {
   "cell_type": "code",
   "execution_count": null,
   "id": "4c306301",
   "metadata": {},
   "outputs": [],
   "source": [
    "len(false_negatives)"
   ]
  },
  {
   "cell_type": "code",
   "execution_count": null,
   "id": "3b9b2004",
   "metadata": {},
   "outputs": [],
   "source": [
    "len(true_positives)"
   ]
  },
  {
   "cell_type": "code",
   "execution_count": null,
   "id": "efe53525",
   "metadata": {},
   "outputs": [],
   "source": [
    "false_negatives = false_negatives.tail(10)"
   ]
  },
  {
   "cell_type": "markdown",
   "id": "fb1880e0",
   "metadata": {},
   "source": [
    "##### Loop"
   ]
  },
  {
   "cell_type": "code",
   "execution_count": null,
   "id": "43bc541a",
   "metadata": {},
   "outputs": [],
   "source": [
    "for index, row in false_negatives.iterrows():\n",
    "#for index, row in true_positives.iterrows():    \n",
    "    print(index)\n",
    "    output_image_fn = DATA_DIR + 'output_images/fn_sampling/fn_plot_' + str(index) + '.png'\n",
    "    #output_image_fn = DATA_DIR + 'output_images/tp/tp_plot_' + str(index) + '.png'\n",
    "    \n",
    "    # Get picture file\n",
    "    picture_name = row['ID_foto1'] + '.jpg'\n",
    "    picture_file = DATA_DIR + 'measurements/pictures/' + picture_name\n",
    "\n",
    "    # Get tree location\n",
    "    fn_geom = row['geometry']\n",
    "    \n",
    "    # Select area for aerial plot\n",
    "    fn_geom_buffer = fn_geom.buffer(distance=10, cap_style=3)\n",
    "    x_min = sg.Polygon(fn_geom_buffer).bounds[0] \n",
    "    x_max = sg.Polygon(fn_geom_buffer).bounds[2]\n",
    "    y_min = sg.Polygon(fn_geom_buffer).bounds[1]\n",
    "    y_max = sg.Polygon(fn_geom_buffer).bounds[3]\n",
    "    \n",
    "    # Select points for point cloud plot\n",
    "    fn_geom_buffer = fn_geom.buffer(distance=4, cap_style=3)\n",
    "    fn_geom_buffer_df = gpd.GeoDataFrame({'geometry': [fn_geom_buffer]}, crs=CRS)\n",
    "    gdf_coord_all_sel = gdf_coord.sjoin(fn_geom_buffer_df, predicate='within').drop(['index_right'], axis=1)\n",
    "    gdf_coord_sel = gdf_coord.sjoin(fn_geom_buffer_df, predicate='within').drop(['index_right'], axis=1)\n",
    "    gdf_coord_red_sel = gdf_coord_red.sjoin(fn_geom_buffer_df, predicate='within').drop(['index_right'], axis=1)\n",
    "    \n",
    "    # Plot\n",
    "    fig = plt.figure(figsize=(12, 8))\n",
    "\n",
    "    ax = fig.add_subplot(231)\n",
    "    ax.scatter(gdf_coord_all_sel.geometry.x, gdf_coord_all_sel[2], color='silver')\n",
    "    ax.scatter(gdf_coord_sel.geometry.x, gdf_coord_sel[2], color='purple')\n",
    "    gdf_coord_all\n",
    "    ax.scatter(fn_geom.x, 0, color='yellow')\n",
    "    #ax.axis('off')\n",
    "\n",
    "    ax = fig.add_subplot(232)\n",
    "    ax.scatter(gdf_coord_all_sel.geometry.y, gdf_coord_all_sel[2], color='silver')\n",
    "    ax.scatter(gdf_coord_sel.geometry.y, gdf_coord_sel[2], color='purple')\n",
    "    ax.scatter(fn_geom.y, 0, color='yellow')\n",
    "    #ax.axis('off')\n",
    "\n",
    "    ax = fig.add_subplot(233)\n",
    "    img = np.uint8(mpimg.imread(picture_file)) \n",
    "    rotated_img = ndimage.rotate(img, -90)\n",
    "    plt.imshow(rotated_img)\n",
    "    ax.axis('off')\n",
    "\n",
    "    ax = fig.add_subplot(234)\n",
    "    ax.scatter(gdf_coord_red_sel.geometry.x, gdf_coord_red_sel[2], color='purple')\n",
    "    ax.scatter(fn_geom.x, 0, color='yellow')\n",
    "    #ax.axis('off')\n",
    "\n",
    "    ax = fig.add_subplot(235)\n",
    "    ax.scatter(gdf_coord_red_sel.geometry.y, gdf_coord_red_sel[2], color='purple')\n",
    "    ax.scatter(fn_geom.y, 0, color='yellow')\n",
    "    #ax.axis('off')\n",
    "\n",
    "    ax = fig.add_subplot(236)\n",
    "    df_area.boundary.plot(ax=ax, color='blue')\n",
    "    df_beheer_sel.boundary.plot(ax=ax, color='blue', alpha=0.6)\n",
    "    df_ahn_areas_sel_dis.plot(ax=ax, color='purple', alpha=0.15)\n",
    "    gdf_sel.plot(ax=ax, color='yellow', alpha=0.5, markersize=100)\n",
    "    df_ahn_sel.plot(ax=ax, color='purple', alpha=0.7, markersize=40)\n",
    "    cx.add_basemap(ax=ax, source=cx.providers.Esri.WorldImagery, crs=CRS)\n",
    "    ax.axis('off')\n",
    "    ar = mpatches.Patch(facecolor='silver', edgecolor='blue', label='Vooropnamegebied')\n",
    "    me = mpatches.Patch(color='yellow', alpha=0.5, label='Metingen')\n",
    "    pr = mpatches.Patch(color='purple', alpha=0.5, label='AHN voorspellingen')\n",
    "    plt.legend(handles=[ar,me,pr], loc='upper center', bbox_to_anchor=(0.5, -0.05))\n",
    "    ax.set_xlim([x_min, x_max])\n",
    "    ax.set_ylim([y_min, y_max])\n",
    "\n",
    "    plt.savefig(output_image_fn, bbox_inches='tight')\n",
    "    plt.show()"
   ]
  }
 ],
 "metadata": {
  "kernelspec": {
   "display_name": "Python 3 (ipykernel)",
   "language": "python",
   "name": "python3"
  },
  "language_info": {
   "codemirror_mode": {
    "name": "ipython",
    "version": 3
   },
   "file_extension": ".py",
   "mimetype": "text/x-python",
   "name": "python",
   "nbconvert_exporter": "python",
   "pygments_lexer": "ipython3",
   "version": "3.9.16"
  }
 },
 "nbformat": 4,
 "nbformat_minor": 5
}
