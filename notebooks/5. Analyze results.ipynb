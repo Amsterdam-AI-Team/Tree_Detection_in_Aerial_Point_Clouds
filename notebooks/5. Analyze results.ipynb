{
 "cells": [
  {
   "cell_type": "markdown",
   "id": "d855b290",
   "metadata": {},
   "source": [
    "# Analyze results\n",
    "This notebook takes the outcomes of `1. Tree filter.ipynb`, `3. Extract tree shapes.ipynb` and `4. Extract tree trunks.ipynb`. It compares these predictions against ground thruth data and presents some statistics and visualizations. "
   ]
  },
  {
   "cell_type": "code",
   "execution_count": null,
   "id": "0bb9e3c4",
   "metadata": {},
   "outputs": [],
   "source": [
    "import pandas as pd\n",
    "import geopandas as gpd\n",
    "from shapely import wkt\n",
    "\n",
    "import matplotlib.pyplot as plt\n",
    "import matplotlib.patches as mpatches\n",
    "import contextily as cx\n",
    "\n",
    "import pathlib"
   ]
  },
  {
   "cell_type": "code",
   "execution_count": null,
   "id": "bb058c79",
   "metadata": {},
   "outputs": [],
   "source": [
    "DATA_FOLDER = pathlib.Path('../data')\n",
    "DATA_DIR = \"/home/aiteam/projects/BOA/Tree_Detection_in_Aerial_Point_Clouds/datasets/\" #TODO remove\n",
    "\n",
    "# Input paths\n",
    "measure_file = DATA_FOLDER / \"ground_truth/gt_trees.gpkg\"\n",
    "area_file = DATA_FOLDER / \"ground_truth/gt_area.gpkg\"\n",
    "\n",
    "ahn_results_file = DATA_DIR + \"HGB/Trunks/Output_centroids_only_124_486_125_486.shp\" # TODO adjust\n",
    "ahn_results_area_file = DATA_FOLDER / \"shapes/trees.csv\"\n",
    "\n",
    "# Output paths\n",
    "output_data = DATA_FOLDER / \"final_results/final_analysis_data.gpkg\"\n",
    "output_image = DATA_FOLDER / \"final_results/final_image.png\"\n",
    "output_image_analysis = DATA_FOLDER / \"final_results/final_analysis_image.png\""
   ]
  },
  {
   "cell_type": "code",
   "execution_count": null,
   "id": "1e503f6a",
   "metadata": {},
   "outputs": [],
   "source": [
    "CRS = \"epsg:28992\"\n",
    "\n",
    "# Maximum distance to be identified as the same tree (m)\n",
    "max_dist = 0.7"
   ]
  },
  {
   "cell_type": "markdown",
   "id": "1a104fe5",
   "metadata": {},
   "source": [
    "## Import data"
   ]
  },
  {
   "cell_type": "markdown",
   "id": "bd6531f9",
   "metadata": {},
   "source": [
    "### Area"
   ]
  },
  {
   "cell_type": "code",
   "execution_count": null,
   "id": "1397e8b2",
   "metadata": {},
   "outputs": [],
   "source": [
    "df_area = gpd.read_file(area_file)"
   ]
  },
  {
   "cell_type": "markdown",
   "id": "31d8adb2",
   "metadata": {},
   "source": [
    "### Measurements"
   ]
  },
  {
   "cell_type": "code",
   "execution_count": null,
   "id": "4d829a80",
   "metadata": {},
   "outputs": [],
   "source": [
    "gdf = gpd.read_file(measure_file)"
   ]
  },
  {
   "cell_type": "markdown",
   "id": "f7b458f1",
   "metadata": {},
   "source": [
    "### AHN results"
   ]
  },
  {
   "cell_type": "markdown",
   "id": "dea2beab",
   "metadata": {},
   "source": [
    "#### trunks"
   ]
  },
  {
   "cell_type": "code",
   "execution_count": null,
   "id": "5fdc5bda",
   "metadata": {},
   "outputs": [],
   "source": [
    "df_ahn = gpd.read_file(ahn_results_file)\n",
    "df_ahn = df_ahn.set_crs(CRS, allow_override=True)"
   ]
  },
  {
   "cell_type": "markdown",
   "id": "0eedb882",
   "metadata": {},
   "source": [
    "#### shapes"
   ]
  },
  {
   "cell_type": "code",
   "execution_count": null,
   "id": "3a4872ed",
   "metadata": {},
   "outputs": [],
   "source": [
    "use_concave = True\n",
    "df_ahn_areas = gpd.read_file(ahn_results_area_file, crs=CRS)\n",
    "df_ahn_areas[\"location\"] = df_ahn_areas[\"location\"].apply(wkt.loads)\n",
    "df_ahn_areas[\"convex_hull\"] = df_ahn_areas[\"convex_hull\"].apply(wkt.loads)\n",
    "if use_concave:\n",
    "    df_ahn_areas[\"concave_hull\"] = df_ahn_areas[\"concave_hull\"].apply(wkt.loads)\n",
    "    df_ahn_areas.set_geometry(\"concave_hull\", inplace=True)\n",
    "else:\n",
    "    df_ahn_areas.set_geometry(\"convex_hull\", inplace=True)\n",
    "df_ahn_areas.drop(\"geometry\", axis=1, inplace=True)\n",
    "df_ahn_areas = df_ahn_areas.set_crs(CRS)\n",
    "df_ahn_areas.drop_duplicates([\"convex_hull\", \"concave_hull\"], inplace=True)"
   ]
  },
  {
   "cell_type": "markdown",
   "id": "4f8f8c37",
   "metadata": {},
   "source": [
    "### Pre-process data"
   ]
  },
  {
   "cell_type": "code",
   "execution_count": null,
   "id": "7821d59a",
   "metadata": {},
   "outputs": [],
   "source": [
    "# Select trees that are within the maintainance area\n",
    "gdf_sel = gdf.sjoin(df_area[[\"geometry\"]], predicate=\"within\").drop(\n",
    "    [\"index_right\"], axis=1\n",
    ")\n",
    "df_ahn_sel = df_ahn.sjoin(df_area[[\"geometry\"]], predicate=\"within\").drop(\n",
    "    [\"index_right\"], axis=1\n",
    ")\n",
    "\n",
    "df_ahn_areas_sel = gpd.clip(df_ahn_areas, df_area)\n",
    "df_ahn_areas_sel_dis = gpd.GeoDataFrame(\n",
    "    geometry=gpd.GeoSeries(df_ahn_areas_sel.unary_union.geoms)\n",
    ")"
   ]
  },
  {
   "cell_type": "markdown",
   "id": "b8120be0",
   "metadata": {},
   "source": [
    "## Get results"
   ]
  },
  {
   "cell_type": "markdown",
   "id": "9697d6eb",
   "metadata": {},
   "source": [
    "### Find matches"
   ]
  },
  {
   "cell_type": "code",
   "execution_count": null,
   "id": "723e50e0",
   "metadata": {},
   "outputs": [],
   "source": [
    "gdf_sel['objectid'] = gdf_sel.index"
   ]
  },
  {
   "cell_type": "code",
   "execution_count": null,
   "id": "1697fab4",
   "metadata": {},
   "outputs": [],
   "source": [
    "# Get nearest measured tree to predicted trees\n",
    "df_ahn_sjoin = df_ahn_sel.sjoin_nearest(\n",
    "    gdf_sel[[\"objectid\", \"geometry\"]], distance_col=\"distance\", how=\"left\"\n",
    ")"
   ]
  },
  {
   "cell_type": "code",
   "execution_count": null,
   "id": "a6139175",
   "metadata": {},
   "outputs": [],
   "source": [
    "# Only keep cases where predicted trees are also closest to measured trees\n",
    "df_ahn_sjoin.sort_values([\"objectid\", \"distance\"], inplace=True)\n",
    "df_ahn_sjoin.drop_duplicates(subset=[\"objectid\"], keep=\"first\", inplace=True)\n",
    "\n",
    "# Drop cases where the distance between measured and predicated tree is too large\n",
    "df_ahn_sjoin = df_ahn_sjoin[df_ahn_sjoin[\"distance\"] < max_dist]"
   ]
  },
  {
   "cell_type": "markdown",
   "id": "baae890f",
   "metadata": {},
   "source": [
    "### Calculate overall statistics"
   ]
  },
  {
   "cell_type": "code",
   "execution_count": null,
   "id": "64e64c82",
   "metadata": {},
   "outputs": [],
   "source": [
    "true_positives = gdf_sel[\n",
    "    gdf_sel[\"objectid\"].isin(df_ahn_sjoin[\"objectid\"])\n",
    "].reset_index(drop=True)\n",
    "false_negatives = gdf_sel[\n",
    "    ~gdf_sel[\"objectid\"].isin(true_positives[\"objectid\"])\n",
    "].reset_index(drop=True)\n",
    "false_positives = df_ahn_sel[\n",
    "    ~df_ahn_sel[\"label\"].isin(df_ahn_sjoin[\"label\"])\n",
    "].reset_index(drop=True)"
   ]
  },
  {
   "cell_type": "code",
   "execution_count": null,
   "id": "39e894f5",
   "metadata": {},
   "outputs": [],
   "source": [
    "print(\"measured: \" + str(len(gdf_sel)))\n",
    "print(\"predicted: \" + str(len(df_ahn_sel)))\n",
    "print(\"TP: \" + str(len(true_positives)))\n",
    "print(\"FN: \" + str(len(false_negatives)))\n",
    "print(\"FP: \" + str(len(false_positives)))\n",
    "print(\n",
    "    \"precision: \"\n",
    "    + str(round(len(true_positives) / (len(true_positives) + len(false_positives)), 2))\n",
    ")\n",
    "print(\n",
    "    \"recall: \"\n",
    "    + str(round(len(true_positives) / (len(true_positives) + len(false_negatives)), 2))\n",
    ")"
   ]
  },
  {
   "cell_type": "markdown",
   "id": "db68e915",
   "metadata": {},
   "source": [
    "### Store"
   ]
  },
  {
   "cell_type": "code",
   "execution_count": null,
   "id": "9ce27e56",
   "metadata": {},
   "outputs": [],
   "source": [
    "true_positives['type'] = 'TP'\n",
    "false_negatives['type'] = 'FN'\n",
    "false_positives['type'] = 'FP'\n",
    "df_final = pd.concat([true_positives[['geometry', 'type']],\n",
    "                     false_negatives[['geometry', 'type']],\n",
    "                     false_positives[['geometry', 'type']]])"
   ]
  },
  {
   "cell_type": "code",
   "execution_count": null,
   "id": "6d1a9e1d",
   "metadata": {},
   "outputs": [],
   "source": [
    "df_final.to_file(output_data, driver=\"GPKG\")"
   ]
  },
  {
   "cell_type": "markdown",
   "id": "a5ceebbc",
   "metadata": {},
   "source": [
    "## Plot results"
   ]
  },
  {
   "cell_type": "code",
   "execution_count": null,
   "id": "f7044159",
   "metadata": {
    "scrolled": true
   },
   "outputs": [],
   "source": [
    "fig, ax = plt.subplots(figsize=(12, 12), frameon=False, dpi=500)\n",
    "\n",
    "# Area\n",
    "df_area.boundary.plot(ax=ax, color=\"blue\")\n",
    "\n",
    "# AHN results - areas\n",
    "df_ahn_areas_sel_dis.plot(ax=ax, color=\"purple\", alpha=0.3)\n",
    "\n",
    "# Measurements\n",
    "gdf_sel.plot(ax=ax, color=\"yellow\", alpha=0.2, markersize=16)\n",
    "\n",
    "# AHN results - trunks\n",
    "df_ahn_sel.plot(ax=ax, color=\"purple\", alpha=0.7, markersize=6)\n",
    "\n",
    "# Background\n",
    "cx.add_basemap(ax=ax, source=cx.providers.Esri.WorldImagery, crs=CRS)\n",
    "\n",
    "ax.axis(\"off\")\n",
    "\n",
    "# Create legend\n",
    "ar = mpatches.Patch(facecolor=\"silver\", edgecolor=\"blue\", label=\"area\")\n",
    "me = mpatches.Patch(color=\"yellow\", alpha=0.5, label=\"measurements\")\n",
    "pr1 = mpatches.Patch(color=\"purple\", label=\"predictions (AHN) - trunks\")\n",
    "pr2 = mpatches.Patch(color=\"purple\", alpha=0.3, label=\"predictions (AHN) - trees\")\n",
    "plt.legend(handles=[ar, me, pr1, pr2], loc=\"lower right\")\n",
    "\n",
    "plt.savefig(output_image, bbox_inches=\"tight\")\n",
    "plt.show()"
   ]
  },
  {
   "cell_type": "code",
   "execution_count": null,
   "id": "1b8e401c",
   "metadata": {},
   "outputs": [],
   "source": [
    "fig, ax = plt.subplots(figsize=(12, 12), frameon=False, dpi=500)\n",
    "\n",
    "# Area\n",
    "df_area.boundary.plot(ax=ax, color=\"blue\")\n",
    "\n",
    "# AHN results - areas\n",
    "df_ahn_areas_sel_dis.plot(ax=ax, color=\"purple\", alpha=0.3)\n",
    "\n",
    "# Measurements & predictions\n",
    "false_negatives.plot(ax=ax, color=\"red\", alpha=0.6, markersize=26)\n",
    "false_positives.plot(ax=ax, color=\"black\", alpha=0.6, markersize=26)\n",
    "true_positives.plot(ax=ax, color=\"green\", alpha=0.8, markersize=26)\n",
    "\n",
    "# Background\n",
    "cx.add_basemap(ax=ax, source=cx.providers.Esri.WorldImagery, crs=CRS)\n",
    "\n",
    "ax.axis(\"off\")\n",
    "\n",
    "# Create legend\n",
    "ar = mpatches.Patch(facecolor=\"silver\", edgecolor=\"blue\", label=\"area\")\n",
    "tp = mpatches.Patch(color=\"green\", label=\"true positive\")\n",
    "fp = mpatches.Patch(color=\"black\", alpha=0.6, label=\"false positive\")\n",
    "fn = mpatches.Patch(color=\"red\", alpha=0.6, label=\"false negative\")\n",
    "pr = mpatches.Patch(color=\"purple\", alpha=0.3, label=\"predictions (AHN) - trees\")\n",
    "plt.legend(handles=[ar, tp, fp, fn, pr], loc=\"lower right\")\n",
    "\n",
    "plt.savefig(output_image_analysis, bbox_inches=\"tight\")\n",
    "plt.show()"
   ]
  },
  {
   "cell_type": "code",
   "execution_count": null,
   "id": "bedf4bb7",
   "metadata": {},
   "outputs": [],
   "source": []
  }
 ],
 "metadata": {
  "kernelspec": {
   "display_name": "Python 3 (ipykernel)",
   "language": "python",
   "name": "python3"
  },
  "language_info": {
   "codemirror_mode": {
    "name": "ipython",
    "version": 3
   },
   "file_extension": ".py",
   "mimetype": "text/x-python",
   "name": "python",
   "nbconvert_exporter": "python",
   "pygments_lexer": "ipython3",
   "version": "3.9.16"
  }
 },
 "nbformat": 4,
 "nbformat_minor": 5
}
