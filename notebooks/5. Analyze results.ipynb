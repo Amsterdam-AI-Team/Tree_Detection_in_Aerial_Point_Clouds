{
 "cells": [
  {
   "cell_type": "markdown",
   "id": "d855b290",
   "metadata": {},
   "source": [
    "## Analyze results\n",
    "This notebook takes the outcomes of `1. Tree filter.ipynb`, `3. Extract tree shapes.ipynb` and `4. Extract tree trunks.ipynb`. It compares these results against ground thruth data and presents some statistics and visualizations. "
   ]
  },
  {
   "cell_type": "code",
   "execution_count": null,
   "id": "0bb9e3c4",
   "metadata": {},
   "outputs": [],
   "source": [
    "import geopandas as gpd\n",
    "from shapely import wkt\n",
    "\n",
    "import matplotlib.pyplot as plt\n",
    "import matplotlib.patches as mpatches\n",
    "import contextily as cx"
   ]
  },
  {
   "cell_type": "code",
   "execution_count": null,
   "id": "bb058c79",
   "metadata": {},
   "outputs": [],
   "source": [
    "DATA_DIR = \"/home/aiteam/projects/BOA/Tree_Detection_in_Aerial_Point_Clouds/datasets/\"\n",
    "\n",
    "# Input paths\n",
    "maintain_file = DATA_DIR + \"measurements/Beheerkaart_Eigendomsrecht.gpkg\"\n",
    "measure_file = DATA_DIR + \"measurements/Ground_Truth_Resultaten_Opnames_V2.gpkg\"\n",
    "area_layer = \"Daadwerkelijke opnamegrenzen\"\n",
    "measure_layer = \"Boompunten\"\n",
    "\n",
    "ahn_results_file = DATA_DIR + \"HGB/Trunks/Output_centroids_only_127_481_127_482.shp\"  # V\n",
    "# ahn_results_file = DATA_DIR + 'HGB/Trunks/Output_centroids_only_124_486_125_486.shp'  # M\n",
    "\n",
    "ahn_results_area_file = DATA_DIR + \"HGB/Shapes/trees_alpha_1.75_20.csv\"\n",
    "\n",
    "# Output paths\n",
    "output_image = DATA_DIR + \"output_images/final_results_ahn.png\"\n",
    "output_image_analysis = DATA_DIR + \"output_images/final_results_ahn_analysis.png\""
   ]
  },
  {
   "cell_type": "code",
   "execution_count": null,
   "id": "1e503f6a",
   "metadata": {},
   "outputs": [],
   "source": [
    "CRS = \"epsg:28992\"\n",
    "\n",
    "# Maximum distance to be identified as the same tree\n",
    "max_dist = 1.3"
   ]
  },
  {
   "cell_type": "markdown",
   "id": "1a104fe5",
   "metadata": {},
   "source": [
    "### Import data"
   ]
  },
  {
   "cell_type": "markdown",
   "id": "bd6531f9",
   "metadata": {},
   "source": [
    "#### Areas"
   ]
  },
  {
   "cell_type": "code",
   "execution_count": null,
   "id": "1397e8b2",
   "metadata": {},
   "outputs": [],
   "source": [
    "# Measurement area\n",
    "df_area = gpd.read_file(measure_file, layer=area_layer)"
   ]
  },
  {
   "cell_type": "code",
   "execution_count": null,
   "id": "c8945672",
   "metadata": {},
   "outputs": [],
   "source": [
    "# TODO remove\n",
    "df_area = df_area[df_area[\"GebiedNummer\"].isin([\"1\", \"2\", \"3\"])]  # V\n",
    "# df_area = df_area[df_area['GebiedNummer'].isin(['A', 'B', 'C'])]  # M"
   ]
  },
  {
   "cell_type": "code",
   "execution_count": null,
   "id": "b5d5bf94",
   "metadata": {},
   "outputs": [],
   "source": [
    "# Area that we maintain\n",
    "df_maintain = gpd.read_file(maintain_file)"
   ]
  },
  {
   "cell_type": "markdown",
   "id": "31d8adb2",
   "metadata": {},
   "source": [
    "#### Measurements"
   ]
  },
  {
   "cell_type": "code",
   "execution_count": null,
   "id": "4d829a80",
   "metadata": {},
   "outputs": [],
   "source": [
    "df = gpd.read_file(measure_file, layer=measure_layer)\n",
    "gdf = gpd.GeoDataFrame(\n",
    "    df, geometry=gpd.points_from_xy(df[\"X_GNSS\"], df[\"Y_GNSS\"]), crs=CRS\n",
    ")"
   ]
  },
  {
   "cell_type": "markdown",
   "id": "f7b458f1",
   "metadata": {},
   "source": [
    "#### AHN results"
   ]
  },
  {
   "cell_type": "markdown",
   "id": "dea2beab",
   "metadata": {},
   "source": [
    "##### trunks"
   ]
  },
  {
   "cell_type": "code",
   "execution_count": null,
   "id": "5fdc5bda",
   "metadata": {},
   "outputs": [],
   "source": [
    "df_ahn = gpd.read_file(ahn_results_file)\n",
    "df_ahn = df_ahn.set_crs(CRS, allow_override=True)"
   ]
  },
  {
   "cell_type": "markdown",
   "id": "0eedb882",
   "metadata": {},
   "source": [
    "##### shapes"
   ]
  },
  {
   "cell_type": "code",
   "execution_count": null,
   "id": "3a4872ed",
   "metadata": {},
   "outputs": [],
   "source": [
    "use_concave = True\n",
    "df_ahn_areas = gpd.read_file(ahn_results_area_file, crs=CRS)\n",
    "df_ahn_areas[\"location\"] = df_ahn_areas[\"location\"].apply(wkt.loads)\n",
    "df_ahn_areas[\"convex_hull\"] = df_ahn_areas[\"convex_hull\"].apply(wkt.loads)\n",
    "if use_concave:\n",
    "    df_ahn_areas[\"concave_hull\"] = df_ahn_areas[\"concave_hull\"].apply(wkt.loads)\n",
    "    df_ahn_areas.set_geometry(\"concave_hull\", inplace=True)\n",
    "else:\n",
    "    df_ahn_areas.set_geometry(\"convex_hull\", inplace=True)\n",
    "df_ahn_areas.drop(\"geometry\", axis=1, inplace=True)\n",
    "df_ahn_areas = df_ahn_areas.set_crs(CRS)\n",
    "df_ahn_areas.drop_duplicates([\"convex_hull\", \"concave_hull\"], inplace=True)"
   ]
  },
  {
   "cell_type": "markdown",
   "id": "4f8f8c37",
   "metadata": {},
   "source": [
    "### Pre-process data"
   ]
  },
  {
   "cell_type": "code",
   "execution_count": null,
   "id": "7821d59a",
   "metadata": {},
   "outputs": [],
   "source": [
    "# Get area we are going to work with\n",
    "df_maintain_sel = gpd.clip(df_maintain, df_area)\n",
    "\n",
    "# Select trees that are within the maintainance area\n",
    "gdf_sel = gdf.sjoin(df_maintain_sel[[\"geometry\"]], predicate=\"within\").drop(\n",
    "    [\"index_right\"], axis=1\n",
    ")\n",
    "df_ahn_sel = df_ahn.sjoin(df_maintain_sel[[\"geometry\"]], predicate=\"within\").drop(\n",
    "    [\"index_right\"], axis=1\n",
    ")\n",
    "\n",
    "df_ahn_areas_sel = gpd.clip(df_ahn_areas, df_maintain_sel)\n",
    "df_ahn_areas_sel_dis = gpd.GeoDataFrame(\n",
    "    geometry=gpd.GeoSeries(df_ahn_areas_sel.unary_union.geoms)\n",
    ")\n",
    "\n",
    "del df_maintain"
   ]
  },
  {
   "cell_type": "markdown",
   "id": "b8120be0",
   "metadata": {},
   "source": [
    "### Get results"
   ]
  },
  {
   "cell_type": "markdown",
   "id": "9697d6eb",
   "metadata": {},
   "source": [
    "#### Find matches"
   ]
  },
  {
   "cell_type": "code",
   "execution_count": null,
   "id": "1697fab4",
   "metadata": {},
   "outputs": [],
   "source": [
    "# Get nearest measured tree to predicted trees\n",
    "df_ahn_sjoin = df_ahn_sel.sjoin_nearest(\n",
    "    gdf_sel[[\"objectid\", \"geometry\"]], distance_col=\"distance\", how=\"left\"\n",
    ")"
   ]
  },
  {
   "cell_type": "code",
   "execution_count": null,
   "id": "a6139175",
   "metadata": {},
   "outputs": [],
   "source": [
    "# Only keep cases where predicted trees are also closest to measured trees\n",
    "df_ahn_sjoin.sort_values([\"objectid\", \"distance\"], inplace=True)\n",
    "df_ahn_sjoin.drop_duplicates(subset=[\"objectid\"], keep=\"first\", inplace=True)\n",
    "\n",
    "# Drop cases where the distance between measured and predicated tree is too large\n",
    "df_ahn_sjoin = df_ahn_sjoin[df_ahn_sjoin[\"distance\"] < max_dist]"
   ]
  },
  {
   "cell_type": "markdown",
   "id": "baae890f",
   "metadata": {},
   "source": [
    "#### Calculate overall statistics"
   ]
  },
  {
   "cell_type": "code",
   "execution_count": null,
   "id": "64e64c82",
   "metadata": {},
   "outputs": [],
   "source": [
    "true_positives = gdf_sel[\n",
    "    gdf_sel[\"objectid\"].isin(df_ahn_sjoin[\"objectid\"])\n",
    "].reset_index(drop=True)\n",
    "false_negatives = gdf_sel[\n",
    "    ~gdf_sel[\"objectid\"].isin(true_positives[\"objectid\"])\n",
    "].reset_index(drop=True)\n",
    "false_positives = df_ahn_sel[\n",
    "    ~df_ahn_sel[\"label\"].isin(df_ahn_sjoin[\"label\"])\n",
    "].reset_index(drop=True)"
   ]
  },
  {
   "cell_type": "code",
   "execution_count": null,
   "id": "39e894f5",
   "metadata": {},
   "outputs": [],
   "source": [
    "print(\"measured: \" + str(len(gdf_sel)))\n",
    "print(\"predicted: \" + str(len(df_ahn_sel)))\n",
    "print(\"TP: \" + str(len(true_positives)))\n",
    "print(\"FN: \" + str(len(false_negatives)))\n",
    "print(\"FP: \" + str(len(false_positives)))\n",
    "print(\n",
    "    \"precision: \"\n",
    "    + str(round(len(true_positives) / (len(true_positives) + len(false_positives)), 2))\n",
    ")\n",
    "print(\n",
    "    \"recall: \"\n",
    "    + str(round(len(true_positives) / (len(true_positives) + len(false_negatives)), 2))\n",
    ")"
   ]
  },
  {
   "cell_type": "markdown",
   "id": "a5ceebbc",
   "metadata": {},
   "source": [
    "### Plot results"
   ]
  },
  {
   "cell_type": "code",
   "execution_count": null,
   "id": "f7044159",
   "metadata": {
    "scrolled": true
   },
   "outputs": [],
   "source": [
    "fig, ax = plt.subplots(figsize=(12, 12), frameon=False, dpi=500)\n",
    "\n",
    "# Area\n",
    "df_area.boundary.plot(ax=ax, color=\"blue\")\n",
    "df_maintain_sel.boundary.plot(ax=ax, color=\"blue\", alpha=0.6)\n",
    "\n",
    "# AHN results - areas\n",
    "df_ahn_areas_sel_dis.plot(ax=ax, color=\"purple\", alpha=0.3)\n",
    "\n",
    "# Measurements\n",
    "gdf_sel.plot(ax=ax, color=\"yellow\", alpha=0.2, markersize=16)\n",
    "\n",
    "# AHN results - trunks\n",
    "df_ahn_sel.plot(ax=ax, color=\"purple\", alpha=0.7, markersize=6)\n",
    "\n",
    "# Background\n",
    "cx.add_basemap(ax=ax, source=cx.providers.Esri.WorldImagery, crs=CRS)\n",
    "\n",
    "ax.axis(\"off\")\n",
    "\n",
    "# Create legend\n",
    "ar = mpatches.Patch(facecolor=\"silver\", edgecolor=\"blue\", label=\"area\")\n",
    "me = mpatches.Patch(color=\"yellow\", alpha=0.5, label=\"measurements\")\n",
    "pr1 = mpatches.Patch(color=\"purple\", label=\"predictions (AHN) - trunks\")\n",
    "pr2 = mpatches.Patch(color=\"purple\", alpha=0.3, label=\"predictions (AHN) - trees\")\n",
    "plt.legend(handles=[ar, me, pr1, pr2], loc=\"lower right\")\n",
    "\n",
    "plt.savefig(output_image, bbox_inches=\"tight\")\n",
    "plt.show()"
   ]
  },
  {
   "cell_type": "code",
   "execution_count": null,
   "id": "1b8e401c",
   "metadata": {},
   "outputs": [],
   "source": [
    "fig, ax = plt.subplots(figsize=(12, 12), frameon=False, dpi=500)\n",
    "\n",
    "# Area\n",
    "df_area.boundary.plot(ax=ax, color=\"blue\")\n",
    "df_maintain_sel.boundary.plot(ax=ax, color=\"blue\", alpha=0.6)\n",
    "\n",
    "# AHN results - areas\n",
    "df_ahn_areas_sel_dis.plot(ax=ax, color=\"purple\", alpha=0.3)\n",
    "\n",
    "# Measurements & predictions\n",
    "false_negatives.plot(ax=ax, color=\"red\", alpha=0.6, markersize=26)\n",
    "false_positives.plot(ax=ax, color=\"black\", alpha=0.6, markersize=26)\n",
    "true_positives.plot(ax=ax, color=\"green\", alpha=0.8, markersize=26)\n",
    "\n",
    "# Background\n",
    "cx.add_basemap(ax=ax, source=cx.providers.Esri.WorldImagery, crs=CRS)\n",
    "\n",
    "ax.axis(\"off\")\n",
    "\n",
    "# Create legend\n",
    "ar = mpatches.Patch(facecolor=\"silver\", edgecolor=\"blue\", label=\"area\")\n",
    "tp = mpatches.Patch(color=\"green\", label=\"true positive\")\n",
    "fp = mpatches.Patch(color=\"black\", alpha=0.6, label=\"false positive\")\n",
    "fn = mpatches.Patch(color=\"red\", alpha=0.6, label=\"false negative\")\n",
    "pr = mpatches.Patch(color=\"purple\", alpha=0.3, label=\"predictions (AHN) - trees\")\n",
    "plt.legend(handles=[ar, tp, fp, fn, pr], loc=\"lower right\")\n",
    "\n",
    "plt.savefig(output_image_analysis, bbox_inches=\"tight\")\n",
    "plt.show()"
   ]
  }
 ],
 "metadata": {
  "kernelspec": {
   "display_name": "Python 3 (ipykernel)",
   "language": "python",
   "name": "python3"
  },
  "language_info": {
   "codemirror_mode": {
    "name": "ipython",
    "version": 3
   },
   "file_extension": ".py",
   "mimetype": "text/x-python",
   "name": "python",
   "nbconvert_exporter": "python",
   "pygments_lexer": "ipython3",
   "version": "3.9.16"
  }
 },
 "nbformat": 4,
 "nbformat_minor": 5
}
