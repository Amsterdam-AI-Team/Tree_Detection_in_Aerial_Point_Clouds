{
 "cells": [
  {
   "cell_type": "code",
   "execution_count": null,
   "id": "cf2eaeec-f83b-4362-8fa1-271da854baa2",
   "metadata": {},
   "outputs": [],
   "source": [
    "import geopandas as gpd\n",
    "import matplotlib.pyplot as plt"
   ]
  },
  {
   "cell_type": "code",
   "execution_count": null,
   "id": "7d215090-9008-4047-988e-bf1eb5da6aa3",
   "metadata": {},
   "outputs": [],
   "source": [
    "dataset_path = '../datasets/validation/'\n",
    "\n",
    "RD_CRS = 'epsg:28992'\n",
    "LL_CRS = 'WGS84'"
   ]
  },
  {
   "cell_type": "code",
   "execution_count": null,
   "id": "7decffdd-570e-4247-aa1e-2941f5020823",
   "metadata": {},
   "outputs": [],
   "source": [
    "area = gpd.read_file(f'{dataset_path}correct_trees_areas_oosterpark.shp', crs=RD_CRS)\n",
    "trees = gpd.read_file(f'{dataset_path}correct_trees_oosterpark.shp', crs=LL_CRS)"
   ]
  },
  {
   "cell_type": "code",
   "execution_count": null,
   "id": "8cc2fd46-9fd3-43b3-84d9-e5c24bb8c604",
   "metadata": {},
   "outputs": [],
   "source": [
    "trees.to_crs(RD_CRS, inplace=True)"
   ]
  },
  {
   "cell_type": "code",
   "execution_count": null,
   "id": "75e94b43-d7fa-4630-9071-9bf0dd9f8124",
   "metadata": {},
   "outputs": [],
   "source": [
    "%matplotlib widget\n",
    "\n",
    "fig, ax = plt.subplots(1, figsize=(8,5))\n",
    "\n",
    "area.plot(ax=ax, color='grey', alpha=0.5)\n",
    "trees.plot(ax=ax, color='darkgreen', marker='.', markersize=5, alpha=1)"
   ]
  },
  {
   "cell_type": "code",
   "execution_count": null,
   "id": "cfb2843a-faa1-4bfc-9e6a-ad0763a03fac",
   "metadata": {},
   "outputs": [],
   "source": []
  }
 ],
 "metadata": {
  "kernelspec": {
   "display_name": "Python 3 (ipykernel)",
   "language": "python",
   "name": "python3"
  },
  "language_info": {
   "codemirror_mode": {
    "name": "ipython",
    "version": 3
   },
   "file_extension": ".py",
   "mimetype": "text/x-python",
   "name": "python",
   "nbconvert_exporter": "python",
   "pygments_lexer": "ipython3",
   "version": "3.9.13"
  }
 },
 "nbformat": 4,
 "nbformat_minor": 5
}
