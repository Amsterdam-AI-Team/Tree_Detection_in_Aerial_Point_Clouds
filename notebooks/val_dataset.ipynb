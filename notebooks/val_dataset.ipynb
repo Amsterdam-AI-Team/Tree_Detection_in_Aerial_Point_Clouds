{
 "cells": [
  {
   "cell_type": "code",
   "execution_count": null,
   "id": "cf2eaeec-f83b-4362-8fa1-271da854baa2",
   "metadata": {},
   "outputs": [],
   "source": [
    "import numpy as np\n",
    "import geopandas as gpd\n",
    "import contextily as cx\n",
    "import matplotlib.pyplot as plt\n",
    "import shapely.geometry as sg\n",
    "import pathlib\n",
    "import shutil\n",
    "from tqdm.notebook import tqdm\n",
    "\n",
    "import set_path\n",
    "from gvl.helper_functions import (roundup, rounddown, box_to_name,\n",
    "                                  get_tilecode_from_filename)"
   ]
  },
  {
   "cell_type": "code",
   "execution_count": null,
   "id": "7d215090-9008-4047-988e-bf1eb5da6aa3",
   "metadata": {},
   "outputs": [],
   "source": [
    "dataset_path = '../datasets/validation/'\n",
    "\n",
    "RD_CRS = 'epsg:28992'\n",
    "LL_CRS = 'WGS84'"
   ]
  },
  {
   "cell_type": "code",
   "execution_count": null,
   "id": "7decffdd-570e-4247-aa1e-2941f5020823",
   "metadata": {},
   "outputs": [],
   "source": [
    "area = gpd.read_file(f'{dataset_path}correct_trees_areas_oosterpark.gpkg', crs=RD_CRS)\n",
    "trees = gpd.read_file(f'{dataset_path}correct_trees_oosterpark.gpkg', crs=LL_CRS)"
   ]
  },
  {
   "cell_type": "code",
   "execution_count": null,
   "id": "8cc2fd46-9fd3-43b3-84d9-e5c24bb8c604",
   "metadata": {},
   "outputs": [],
   "source": [
    "trees.to_crs(RD_CRS, inplace=True)"
   ]
  },
  {
   "cell_type": "code",
   "execution_count": null,
   "id": "75e94b43-d7fa-4630-9071-9bf0dd9f8124",
   "metadata": {},
   "outputs": [],
   "source": [
    "%matplotlib widget\n",
    "\n",
    "fig, ax = plt.subplots(1, figsize=(10,7))\n",
    "\n",
    "area.plot(ax=ax, color='lightblue', alpha=0.8)\n",
    "trees.plot(ax=ax, color='darkgreen', marker='.', markersize=5, alpha=1)\n",
    "cx.add_basemap(ax=ax, crs=RD_CRS)"
   ]
  },
  {
   "cell_type": "markdown",
   "id": "eadc5544-9e46-4ec5-bf8a-d52a0947ac15",
   "metadata": {},
   "source": [
    "## Compare with extracted trees"
   ]
  },
  {
   "cell_type": "code",
   "execution_count": null,
   "id": "76fa6a8a-3b62-4903-9536-c45580bda1f6",
   "metadata": {},
   "outputs": [],
   "source": [
    "import pickle\n",
    "\n",
    "with open('oosterpark_trees.pickle', 'rb') as handle:\n",
    "    data = pickle.load(handle)\n",
    "\n",
    "extracted = gpd.GeoDataFrame(data=data,\n",
    "                             geometry='concave_hull',\n",
    "                             crs='epsg:28992')"
   ]
  },
  {
   "cell_type": "code",
   "execution_count": null,
   "id": "3156843c-0423-4c7f-99f8-0281b6202cbf",
   "metadata": {},
   "outputs": [],
   "source": [
    "extr_match = extracted[extracted.intersects(area.unary_union)]"
   ]
  },
  {
   "cell_type": "code",
   "execution_count": null,
   "id": "d9fd2b77-3635-4bd7-b067-63026759b07c",
   "metadata": {},
   "outputs": [],
   "source": [
    "fig, ax = plt.subplots(1, figsize=(10,7))\n",
    "\n",
    "extr_match.plot(ax=ax, color='green', alpha=0.8)\n",
    "area.plot(ax=ax, color='lightblue', alpha=0.8)\n",
    "trees.plot(ax=ax, color='black', marker='.', markersize=7, alpha=1)\n",
    "extr_match.set_geometry('location').plot(ax=ax, color='red', alpha=1, marker='.', markersize=7)\n",
    "\n",
    "plt.show()"
   ]
  },
  {
   "cell_type": "code",
   "execution_count": null,
   "id": "9d2a8ffd-3f10-40ac-ba29-341cd8f22198",
   "metadata": {},
   "outputs": [],
   "source": [
    "cover = extr_match.unary_union"
   ]
  },
  {
   "cell_type": "code",
   "execution_count": null,
   "id": "546f1201-1249-4a09-84dc-52314c87ba0b",
   "metadata": {},
   "outputs": [],
   "source": [
    "trees['recalled'] = trees.apply(lambda row: cover.contains(row.geometry), axis=1)"
   ]
  },
  {
   "cell_type": "code",
   "execution_count": null,
   "id": "d70765b6-c69c-4ca9-91f1-1b137c498da3",
   "metadata": {},
   "outputs": [],
   "source": [
    "extr_match['precise'] = extr_match.apply(lambda row: trees.within(row['convex_hull']).any(), axis=1)"
   ]
  },
  {
   "cell_type": "code",
   "execution_count": null,
   "id": "b6b0a90f-b36b-4cb0-9e6d-9202cf478bd8",
   "metadata": {},
   "outputs": [],
   "source": [
    "# Total number of ground truth trees\n",
    "print(f'Total #trees in validation area: {len(trees)}')\n",
    "# Total number of extracted trees\n",
    "print(f'Total #trees extracted: {len(extr_match)}')\n",
    "# Precision\n",
    "print(f\"Precision: {sum(extr_match['precise']) / len(extr_match) * 100:.1f}\")\n",
    "# Recall\n",
    "print(f\"Recall: {sum(trees['recalled']) / len(trees) * 100:.1f}\")"
   ]
  },
  {
   "cell_type": "markdown",
   "id": "5e79d1e4-79e6-424a-8167-3b465578bff8",
   "metadata": {},
   "source": [
    "## File copying"
   ]
  },
  {
   "cell_type": "code",
   "execution_count": null,
   "id": "40dbd9e9-6020-4458-ada6-3329f5571484",
   "metadata": {},
   "outputs": [],
   "source": [
    "# Get bounds of city area\n",
    "bounds = area.unary_union.bounds\n",
    "\n",
    "tile_size = 1000"
   ]
  },
  {
   "cell_type": "code",
   "execution_count": null,
   "id": "024b4e76-7eee-49a2-a6ad-ae27cadb05cc",
   "metadata": {},
   "outputs": [],
   "source": [
    "BASE_FOLDER = '/media/dbloembergen/PointCloud/AHN4'\n",
    "ahn_subtile_folder = f'{BASE_FOLDER}/AMS_subtiles_1000/'"
   ]
  },
  {
   "cell_type": "code",
   "execution_count": null,
   "id": "281b1f92-38e1-4309-9e76-8c077c4bf401",
   "metadata": {},
   "outputs": [],
   "source": [
    "subtiles = list(pathlib.Path(ahn_subtile_folder).glob('*.laz'))\n",
    "subtiles_codes = [get_tilecode_from_filename(subtile.name) for subtile in subtiles]"
   ]
  },
  {
   "cell_type": "code",
   "execution_count": null,
   "id": "04d9e7af-8345-4038-98cc-ff8d03703ce6",
   "metadata": {},
   "outputs": [],
   "source": [
    "def code_to_geom(code):\n",
    "    parts = code.split('_')\n",
    "    x, y = int(parts[0])*tile_size, int(parts[1])*tile_size\n",
    "    return sg.box(x, y, x+tile_size, y+tile_size)\n",
    "\n",
    "geoms = [code_to_geom(code) for code in subtiles_codes]"
   ]
  },
  {
   "cell_type": "code",
   "execution_count": null,
   "id": "5f625a63-0563-46ae-a121-927f3c083788",
   "metadata": {},
   "outputs": [],
   "source": [
    "subtiles_gdf = gpd.GeoDataFrame({'subtile': subtiles,\n",
    "                                 'name': subtiles_codes,\n",
    "                                 'geometry': geoms}, crs=RD_CRS)"
   ]
  },
  {
   "cell_type": "code",
   "execution_count": null,
   "id": "3de6f674-c422-4542-944d-f633fd7612d5",
   "metadata": {},
   "outputs": [],
   "source": [
    "subtiles_gdf = subtiles_gdf[subtiles_gdf.intersects(area.unary_union)]"
   ]
  },
  {
   "cell_type": "code",
   "execution_count": null,
   "id": "f04c3395-50df-4bfb-ba68-95a87217f65d",
   "metadata": {},
   "outputs": [],
   "source": [
    "subtiles_gdf"
   ]
  },
  {
   "cell_type": "code",
   "execution_count": null,
   "id": "6af62228-4749-4520-9ec0-40a2b7785be2",
   "metadata": {},
   "outputs": [],
   "source": [
    "subtiles_gdf.name.values"
   ]
  },
  {
   "cell_type": "code",
   "execution_count": null,
   "id": "24ae7193-2077-4800-baa1-d3b86dd9095e",
   "metadata": {},
   "outputs": [],
   "source": [
    "out_folder = '../datasets/AHN4/AMS_subtiles_1000/'\n",
    "dry_run = True\n",
    "\n",
    "laz_files = subtiles_gdf.subtile.values\n",
    "npz_files = [f'{BASE_FOLDER}/npz_subtiles_1000/ahn_{name}.npz' for name in subtiles_gdf.name.values]\n",
    "\n",
    "for f in tqdm(laz_files):\n",
    "    if dry_run:\n",
    "        print(f'{f.as_posix()} => {out_folder}{f.name}')\n",
    "    else:\n",
    "        shutil.copy(f.as_posix(), f'{out_folder}{f.name}')"
   ]
  },
  {
   "cell_type": "code",
   "execution_count": null,
   "id": "909d6d7b-bdf7-4347-90ca-88fb86d03bdb",
   "metadata": {},
   "outputs": [],
   "source": []
  }
 ],
 "metadata": {
  "kernelspec": {
   "display_name": "Python 3 (ipykernel)",
   "language": "python",
   "name": "python3"
  },
  "language_info": {
   "codemirror_mode": {
    "name": "ipython",
    "version": 3
   },
   "file_extension": ".py",
   "mimetype": "text/x-python",
   "name": "python",
   "nbconvert_exporter": "python",
   "pygments_lexer": "ipython3",
   "version": "3.9.13"
  }
 },
 "nbformat": 4,
 "nbformat_minor": 5
}
