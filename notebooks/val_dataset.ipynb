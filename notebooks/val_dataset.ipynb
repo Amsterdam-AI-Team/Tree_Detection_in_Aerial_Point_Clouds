{
 "cells": [
  {
   "cell_type": "code",
   "execution_count": null,
   "id": "cf2eaeec-f83b-4362-8fa1-271da854baa2",
   "metadata": {},
   "outputs": [],
   "source": [
    "import geopandas as gpd\n",
    "import contextily as cx\n",
    "import matplotlib.pyplot as plt\n",
    "import shapely.geometry as sg\n",
    "import pathlib\n",
    "import shutil\n",
    "from tqdm.notebook import tqdm\n",
    "\n",
    "import set_path\n",
    "from gvl.helper_functions import (roundup, rounddown, box_to_name,\n",
    "                                  get_tilecode_from_filename)"
   ]
  },
  {
   "cell_type": "code",
   "execution_count": null,
   "id": "7d215090-9008-4047-988e-bf1eb5da6aa3",
   "metadata": {},
   "outputs": [],
   "source": [
    "dataset_path = '../datasets/validation/'\n",
    "\n",
    "RD_CRS = 'epsg:28992'\n",
    "LL_CRS = 'WGS84'"
   ]
  },
  {
   "cell_type": "code",
   "execution_count": null,
   "id": "7decffdd-570e-4247-aa1e-2941f5020823",
   "metadata": {},
   "outputs": [],
   "source": [
    "area = gpd.read_file(f'{dataset_path}correct_trees_areas_oosterpark.shp', crs=RD_CRS)\n",
    "trees = gpd.read_file(f'{dataset_path}correct_trees_oosterpark.shp', crs=LL_CRS)"
   ]
  },
  {
   "cell_type": "code",
   "execution_count": null,
   "id": "8cc2fd46-9fd3-43b3-84d9-e5c24bb8c604",
   "metadata": {},
   "outputs": [],
   "source": [
    "trees.to_crs(RD_CRS, inplace=True)"
   ]
  },
  {
   "cell_type": "code",
   "execution_count": null,
   "id": "75e94b43-d7fa-4630-9071-9bf0dd9f8124",
   "metadata": {},
   "outputs": [],
   "source": [
    "%matplotlib widget\n",
    "\n",
    "fig, ax = plt.subplots(1, figsize=(8,5))\n",
    "\n",
    "area.plot(ax=ax, color='lightblue', alpha=0.8)\n",
    "trees.plot(ax=ax, color='darkgreen', marker='.', markersize=5, alpha=1)\n",
    "cx.add_basemap(ax=ax, crs=RD_CRS)"
   ]
  },
  {
   "cell_type": "code",
   "execution_count": null,
   "id": "40dbd9e9-6020-4458-ada6-3329f5571484",
   "metadata": {},
   "outputs": [],
   "source": [
    "# Get bounds of city area\n",
    "bounds = area.unary_union.bounds\n",
    "\n",
    "tile_size = 1000"
   ]
  },
  {
   "cell_type": "code",
   "execution_count": null,
   "id": "024b4e76-7eee-49a2-a6ad-ae27cadb05cc",
   "metadata": {},
   "outputs": [],
   "source": [
    "BASE_FOLDER = '/media/dbloembergen/PointCloud/AHN4'\n",
    "ahn_subtile_folder = f'{BASE_FOLDER}/AMS_subtiles_1000/'"
   ]
  },
  {
   "cell_type": "code",
   "execution_count": null,
   "id": "281b1f92-38e1-4309-9e76-8c077c4bf401",
   "metadata": {},
   "outputs": [],
   "source": [
    "subtiles = list(pathlib.Path(ahn_subtile_folder).glob('*.laz'))\n",
    "subtiles_codes = [get_tilecode_from_filename(subtile.name) for subtile in subtiles]"
   ]
  },
  {
   "cell_type": "code",
   "execution_count": null,
   "id": "04d9e7af-8345-4038-98cc-ff8d03703ce6",
   "metadata": {},
   "outputs": [],
   "source": [
    "def code_to_geom(code):\n",
    "    parts = code.split('_')\n",
    "    x, y = int(parts[0])*tile_size, int(parts[1])*tile_size\n",
    "    return sg.box(x, y, x+tile_size, y+tile_size)\n",
    "\n",
    "geoms = [code_to_geom(code) for code in subtiles_codes]"
   ]
  },
  {
   "cell_type": "code",
   "execution_count": null,
   "id": "5f625a63-0563-46ae-a121-927f3c083788",
   "metadata": {},
   "outputs": [],
   "source": [
    "subtiles_gdf = gpd.GeoDataFrame({'subtile': subtiles,\n",
    "                                 'name': subtiles_codes,\n",
    "                                 'geometry': geoms}, crs=RD_CRS)"
   ]
  },
  {
   "cell_type": "code",
   "execution_count": null,
   "id": "3de6f674-c422-4542-944d-f633fd7612d5",
   "metadata": {},
   "outputs": [],
   "source": [
    "subtiles_gdf = subtiles_gdf[subtiles_gdf.intersects(area.unary_union)]"
   ]
  },
  {
   "cell_type": "code",
   "execution_count": null,
   "id": "f04c3395-50df-4bfb-ba68-95a87217f65d",
   "metadata": {},
   "outputs": [],
   "source": [
    "subtiles_gdf"
   ]
  },
  {
   "cell_type": "code",
   "execution_count": null,
   "id": "6af62228-4749-4520-9ec0-40a2b7785be2",
   "metadata": {},
   "outputs": [],
   "source": [
    "subtiles_gdf.name.values"
   ]
  },
  {
   "cell_type": "code",
   "execution_count": null,
   "id": "24ae7193-2077-4800-baa1-d3b86dd9095e",
   "metadata": {},
   "outputs": [],
   "source": [
    "out_folder = '../datasets/AHN4/AMS_subtiles_1000/'\n",
    "dry_run = True\n",
    "\n",
    "laz_files = subtiles_gdf.subtile.values\n",
    "npz_files = [f'{BASE_FOLDER}/npz_subtiles_1000/ahn_{name}.npz' for name in subtiles_gdf.name.values]\n",
    "\n",
    "for f in tqdm(laz_files):\n",
    "    if dry_run:\n",
    "        print(f'{f.as_posix()} => {out_folder}{f.name}')\n",
    "    else:\n",
    "        shutil.copy(f.as_posix(), f'{out_folder}{f.name}')"
   ]
  },
  {
   "cell_type": "code",
   "execution_count": null,
   "id": "909d6d7b-bdf7-4347-90ca-88fb86d03bdb",
   "metadata": {},
   "outputs": [],
   "source": []
  }
 ],
 "metadata": {
  "kernelspec": {
   "display_name": "Python 3 (ipykernel)",
   "language": "python",
   "name": "python3"
  },
  "language_info": {
   "codemirror_mode": {
    "name": "ipython",
    "version": 3
   },
   "file_extension": ".py",
   "mimetype": "text/x-python",
   "name": "python",
   "nbconvert_exporter": "python",
   "pygments_lexer": "ipython3",
   "version": "3.9.13"
  }
 },
 "nbformat": 4,
 "nbformat_minor": 5
}
