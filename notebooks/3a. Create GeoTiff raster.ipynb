{
 "cells": [
  {
   "cell_type": "markdown",
   "id": "49ddb8fa-69f7-4b82-8cb3-7e26e4ebf626",
   "metadata": {},
   "source": [
    "# Convert annotated point cloud to a GeoTiff raster\n",
    "\n",
    "We create a raster with two bands:\n",
    "1. The number of tree-points per cell\n",
    "2. The average height above ground (HAG) for that cell"
   ]
  },
  {
   "cell_type": "code",
   "execution_count": null,
   "id": "f3a935d0-dfe7-40bb-a2ae-abb7440134ad",
   "metadata": {},
   "outputs": [],
   "source": [
    "import set_path\n",
    "\n",
    "import numpy as np\n",
    "import laspy\n",
    "import pathlib\n",
    "from tqdm.notebook import tqdm\n",
    "\n",
    "from upcp.utils import clip_utils\n",
    "\n",
    "import gvl.helper_functions as helpers"
   ]
  },
  {
   "cell_type": "markdown",
   "id": "3aab804a-13d7-4990-891d-3a186fb7a3da",
   "metadata": {},
   "source": [
    "## Settings"
   ]
  },
  {
   "cell_type": "code",
   "execution_count": null,
   "id": "b20f31c0-ac8a-486d-975e-98f4353482f4",
   "metadata": {},
   "outputs": [],
   "source": [
    "BASE_FOLDER = pathlib.Path('../datasets')\n",
    "\n",
    "input_dir = BASE_FOLDER / 'AHN4' / 'AMS_subtiles_1000_pred'\n",
    "output_dir = BASE_FOLDER / 'GeoTiff_subtiles_1000'\n",
    "\n",
    "EPSG = 28992     # RD coordinates\n",
    "grid_res = 0.5   # 8cm resolution grid\n",
    "\n",
    "include_overlap = True  # Add the existing overlap buffer aropund the tile\n",
    "BUFFER = 5\n",
    "\n",
    "# Our classification\n",
    "UNKNOWN = 0\n",
    "TREE = 1\n",
    "NOISE = 2\n",
    "OTHER = 0"
   ]
  },
  {
   "cell_type": "code",
   "execution_count": null,
   "id": "18c23393-55f3-4680-8046-92ba68ee5016",
   "metadata": {},
   "outputs": [],
   "source": [
    "# Create output folder\n",
    "pathlib.Path(output_dir).mkdir(parents=True, exist_ok=True)"
   ]
  },
  {
   "cell_type": "markdown",
   "id": "53db030b-6f15-4621-a5b8-762fe5e6e817",
   "metadata": {},
   "source": [
    "## Helper functions"
   ]
  },
  {
   "cell_type": "code",
   "execution_count": null,
   "id": "8007aef9-8f88-4b45-88cd-440a74a8e915",
   "metadata": {},
   "outputs": [],
   "source": [
    "from scipy.stats import binned_statistic_2d\n",
    "\n",
    "def get_tile_grid(points, hag, x_min, y_min, tilewidth, res):\n",
    "    x_edge = np.arange(x_min, x_min+tilewidth+res, res)\n",
    "    y_edge = np.arange(y_min, y_min+tilewidth+res, res)\n",
    "    n_points = binned_statistic_2d(x=points[:, 0], \n",
    "                                   y=points[:, 1],\n",
    "                                   values=None,\n",
    "                                   bins=[x_edge, y_edge],\n",
    "                                   statistic='count').statistic\n",
    "    mean_hag = binned_statistic_2d(x=points[:, 0], \n",
    "                                   y=points[:, 1],\n",
    "                                   values=hag,\n",
    "                                   bins=[x_edge, y_edge],\n",
    "                                   statistic='mean').statistic\n",
    "    return n_points, mean_hag\n",
    "\n",
    "\n",
    "from osgeo import gdal\n",
    "from osgeo import osr\n",
    "\n",
    "def save_geotiff(fname, n_points, mean_hag, x_min, y_min, res):\n",
    "    x_dim, y_dim = n_points.shape\n",
    "\n",
    "    # set geotransform\n",
    "    geotransform = (x_min, res, 0, y_min, 0, res)\n",
    "\n",
    "    # create the 3-band raster file\n",
    "    geotiff = gdal.GetDriverByName('GTiff').Create(fname, x_dim, y_dim, 2, gdal.GDT_Float32)\n",
    "\n",
    "    geotiff.SetGeoTransform(geotransform)    # specify coords\n",
    "    srs = osr.SpatialReference()             # establish encoding\n",
    "    srs.ImportFromEPSG(EPSG)                 # set coordinate system\n",
    "    geotiff.SetProjection(srs.ExportToWkt()) # export coords to file\n",
    "\n",
    "    geotiff.GetRasterBand(1).WriteArray(n_points)\n",
    "    geotiff.GetRasterBand(1).SetNoDataValue(0)\n",
    "    geotiff.GetRasterBand(1).SetDescription('n_points')\n",
    "\n",
    "    geotiff.GetRasterBand(2).WriteArray(mean_hag)\n",
    "    geotiff.GetRasterBand(2).SetNoDataValue(0)\n",
    "    geotiff.GetRasterBand(2).SetDescription('hag')\n",
    "\n",
    "    geotiff.FlushCache()                     # write to disk\n",
    "    geotiff = None"
   ]
  },
  {
   "cell_type": "markdown",
   "id": "af74836f-a1d3-43e9-ba29-36ada57273b0",
   "metadata": {},
   "source": [
    "## Main loop"
   ]
  },
  {
   "cell_type": "code",
   "execution_count": null,
   "id": "b695c0f9-06a5-4bdc-b3ad-4eaa346f3110",
   "metadata": {},
   "outputs": [],
   "source": [
    "input_files = list(pathlib.Path(input_dir).glob('merged*.laz'))"
   ]
  },
  {
   "cell_type": "code",
   "execution_count": null,
   "id": "e4e2a3f9-06e4-4779-9d6f-67fd995f5238",
   "metadata": {},
   "outputs": [],
   "source": [
    "# Check existing output files (ignore this cell to re-run for all tiles)\n",
    "existing_files = list(pathlib.Path(output_dir).glob('raster*.tif'))\n",
    "existing_codes = {helpers.get_tilecode_from_filename(file.name)\n",
    "                  for file in existing_files}\n",
    "\n",
    "input_files = [file for file in input_files\n",
    "               if helpers.get_tilecode_from_filename(file.name) not in existing_codes]"
   ]
  },
  {
   "cell_type": "code",
   "execution_count": null,
   "id": "25ab0627-87cd-4bea-a4b0-7691b299b9d2",
   "metadata": {},
   "outputs": [],
   "source": [
    "pbar = tqdm(input_files, unit='file', smoothing=0)\n",
    "\n",
    "for file in pbar:\n",
    "    tilecode = helpers.get_tilecode_from_filename(file.name)\n",
    "    pbar.set_postfix_str(tilecode)\n",
    "    \n",
    "    # Load LAS data\n",
    "    las = laspy.read(file)\n",
    "    mask = las.label == TREE\n",
    "    points_xyz = np.vstack((las.x[mask], las.y[mask], las.z[mask])).T\n",
    "    hag = las.hag[mask]\n",
    "    \n",
    "    if include_overlap:\n",
    "        ((x_min, y_max), (x_max, y_min)) = helpers.get_bbox_from_tile_code(tilecode, padding=BUFFER)\n",
    "        tilewidth = x_max - x_min  # Assume square tile\n",
    "    else:\n",
    "        ((x_min, y_max), (x_max, y_min)) = helpers.get_bbox_from_tile_code(tilecode, padding=0)\n",
    "        tilewidth = x_max - x_min  # Assume square tile\n",
    "        mask = clip_utils.rectangle_clip(points_xyz, (x_min, y_min, x_max, y_max))\n",
    "        points_xyz = points_xyz[mask, :]\n",
    "        hag = hag[mask]\n",
    "\n",
    "    n_points, mean_hag = get_tile_grid(points_xyz, hag, x_min, y_min, tilewidth, grid_res)\n",
    "    \n",
    "    output_file = pathlib.Path(output_dir) / f'raster_{tilecode}.tif'\n",
    "    save_geotiff(output_file.as_posix(), n_points.T, mean_hag.T, x_min, y_min, grid_res)"
   ]
  },
  {
   "cell_type": "code",
   "execution_count": null,
   "id": "67282113-cf04-4a93-83f1-33c2b2435087",
   "metadata": {},
   "outputs": [],
   "source": []
  }
 ],
 "metadata": {
  "kernelspec": {
   "display_name": "Python 3 (ipykernel)",
   "language": "python",
   "name": "python3"
  },
  "language_info": {
   "codemirror_mode": {
    "name": "ipython",
    "version": 3
   },
   "file_extension": ".py",
   "mimetype": "text/x-python",
   "name": "python",
   "nbconvert_exporter": "python",
   "pygments_lexer": "ipython3",
   "version": "3.9.13"
  }
 },
 "nbformat": 4,
 "nbformat_minor": 5
}
