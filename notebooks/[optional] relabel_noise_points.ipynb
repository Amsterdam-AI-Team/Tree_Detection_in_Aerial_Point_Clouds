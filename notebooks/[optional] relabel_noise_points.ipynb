{
 "cells": [
  {
   "cell_type": "code",
   "execution_count": null,
   "id": "9ed2196c",
   "metadata": {},
   "outputs": [],
   "source": [
    "import laspy\n",
    "import numpy as np\n",
    "\n",
    "las_file = 'train_25DN2_13.laz'\n",
    "\n",
    "las = laspy.read(las_file)\n",
    "mask = las.label == 0 # noise points from train dataset\n",
    "pts = np.vstack((las.x, las.y, las.z)).T[mask]"
   ]
  },
  {
   "cell_type": "code",
   "execution_count": null,
   "id": "301c05f1",
   "metadata": {},
   "outputs": [],
   "source": [
    "las_file2 = 'predicted_25DN2_13.laz'\n",
    "\n",
    "las2 = laspy.read(las_file2)\n",
    "pts2 = np.vstack((las2.x, las2.y, las2.z)).T"
   ]
  },
  {
   "cell_type": "markdown",
   "id": "e2a1ed62",
   "metadata": {},
   "source": [
    "### Check if two 3D numpy arrays contain overlapping 2D arrays"
   ]
  },
  {
   "cell_type": "code",
   "execution_count": null,
   "id": "d49ee1ce",
   "metadata": {},
   "outputs": [],
   "source": [
    "# https://stackoverflow.com/a/45313353/ @Divakar\n",
    "def view1D(a, b): # a, b are arrays\n",
    "    a = np.ascontiguousarray(a)\n",
    "    b = np.ascontiguousarray(b)\n",
    "    void_dt = np.dtype((np.void, a.dtype.itemsize * a.shape[1]))\n",
    "    return a.view(void_dt).ravel(),  b.view(void_dt).ravel()\n",
    "\n",
    "def isin_nd(a,b):\n",
    "    # a,b are the 3D input arrays to give us \"isin-like\" functionality across them\n",
    "    A,B = view1D(a.reshape(a.shape[0],-1),b.reshape(b.shape[0],-1))\n",
    "    return np.isin(A,B)\n",
    "\n",
    "mask_noise = isin_nd(pts2,pts)"
   ]
  },
  {
   "cell_type": "code",
   "execution_count": null,
   "id": "dce7c41e",
   "metadata": {},
   "outputs": [],
   "source": [
    "# Add ground truth noise points to this cloud\n",
    "las2.label[mask_noise] = 0"
   ]
  },
  {
   "cell_type": "code",
   "execution_count": null,
   "id": "ee94b6cd",
   "metadata": {},
   "outputs": [],
   "source": [
    "las2.write(f'../datasets/pointcloud/predicted_25DN2_13_rel.laz')\n"
   ]
  },
  {
   "cell_type": "code",
   "execution_count": null,
   "id": "58012e99",
   "metadata": {},
   "outputs": [],
   "source": []
  }
 ],
 "metadata": {
  "kernelspec": {
   "display_name": "Python 3 (ipykernel)",
   "language": "python",
   "name": "python3"
  },
  "language_info": {
   "codemirror_mode": {
    "name": "ipython",
    "version": 3
   },
   "file_extension": ".py",
   "mimetype": "text/x-python",
   "name": "python",
   "nbconvert_exporter": "python",
   "pygments_lexer": "ipython3",
   "version": "3.8.12"
  }
 },
 "nbformat": 4,
 "nbformat_minor": 5
}
